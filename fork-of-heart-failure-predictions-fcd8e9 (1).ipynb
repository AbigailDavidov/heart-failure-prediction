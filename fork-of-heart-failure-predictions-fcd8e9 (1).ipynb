{
 "cells": [
  {
   "cell_type": "markdown",
   "metadata": {
    "papermill": {
     "duration": 0.056206,
     "end_time": "2020-09-24T11:02:38.090278",
     "exception": false,
     "start_time": "2020-09-24T11:02:38.034072",
     "status": "completed"
    },
    "tags": []
   },
   "source": [
    "# <div style=\"text-align: left\">HEART FAILURE ANALYSIS - PYTHON</div>\n",
    "## <div style=\"text-align: left\">Heart Failure</div>\n",
    "<div style=\"text-align: left\">Heart failure happens when the heart cannot pump enough blood and oxygen to support other organs in your body. Heart failure is a serious condition, but it does not mean that the heart has stopped beating. \n",
    "Cardiovascular diseases (CVDs) are the number 1 cause of death globally, taking an estimated 17.9 million lives each year, which accounts for 31% of all deaths worlwide. Heart failure is a common event caused by CVDs</div>\n",
    "\n",
    "\n"
   ]
  },
  {
   "cell_type": "markdown",
   "metadata": {
    "papermill": {
     "duration": 0.054227,
     "end_time": "2020-09-24T11:02:38.199141",
     "exception": false,
     "start_time": "2020-09-24T11:02:38.144914",
     "status": "completed"
    },
    "tags": []
   },
   "source": [
    "## <div style=\"text-align: left\">About the Dataset </div>\n",
    "<div style=\"text-align: left\">This dataset contains 12 features that can be used to predict mortality by heart failure.\n",
    "Most cardiovascular diseases can be prevented by addressing behavioural risk factors such as tobacco use, unhealthy diet and obesity, physical inactivity and harmful use of alcohol using population-wide strategies.\n",
    "People with cardiovascular disease or who are at high cardiovascular risk (due to the presence of one or more risk factors such as hypertension, diabetes, hyperlipidaemia or already established disease) need early detection and management wherein a machine learning model can be of great help</div>"
   ]
  },
  {
   "cell_type": "markdown",
   "metadata": {
    "papermill": {
     "duration": 0.055197,
     "end_time": "2020-09-24T11:02:38.308740",
     "exception": false,
     "start_time": "2020-09-24T11:02:38.253543",
     "status": "completed"
    },
    "tags": []
   },
   "source": [
    "# Importing Relevant Libraries for analysis:"
   ]
  },
  {
   "cell_type": "code",
   "execution_count": 1,
   "metadata": {
    "_cell_guid": "79c7e3d0-c299-4dcb-8224-4455121ee9b0",
    "_uuid": "d629ff2d2480ee46fbb7e2d37f6b5fab8052498a",
    "execution": {
     "iopub.execute_input": "2020-09-24T11:02:38.427513Z",
     "iopub.status.busy": "2020-09-24T11:02:38.426847Z",
     "iopub.status.idle": "2020-09-24T11:02:39.471107Z",
     "shell.execute_reply": "2020-09-24T11:02:39.470352Z"
    },
    "papermill": {
     "duration": 1.106418,
     "end_time": "2020-09-24T11:02:39.471220",
     "exception": false,
     "start_time": "2020-09-24T11:02:38.364802",
     "status": "completed"
    },
    "tags": []
   },
   "outputs": [],
   "source": [
    "#Data Wrangling:\n",
    "import numpy as np\n",
    "import pandas as pd\n",
    "\n",
    "#Data Visualization:\n",
    "import matplotlib.pyplot as plt\n",
    "import seaborn as sns \n",
    "%matplotlib inline"
   ]
  },
  {
   "cell_type": "markdown",
   "metadata": {
    "papermill": {
     "duration": 0.054828,
     "end_time": "2020-09-24T11:02:39.580973",
     "exception": false,
     "start_time": "2020-09-24T11:02:39.526145",
     "status": "completed"
    },
    "tags": []
   },
   "source": [
    "# Workflow Stage 1: Data Importation"
   ]
  },
  {
   "cell_type": "code",
   "execution_count": 2,
   "metadata": {
    "execution": {
     "iopub.execute_input": "2020-09-24T11:02:39.700820Z",
     "iopub.status.busy": "2020-09-24T11:02:39.699830Z",
     "iopub.status.idle": "2020-09-24T11:02:39.733181Z",
     "shell.execute_reply": "2020-09-24T11:02:39.733721Z"
    },
    "papermill": {
     "duration": 0.098324,
     "end_time": "2020-09-24T11:02:39.733956",
     "exception": false,
     "start_time": "2020-09-24T11:02:39.635632",
     "status": "completed"
    },
    "tags": []
   },
   "outputs": [
    {
     "data": {
      "text/html": [
       "<div>\n",
       "<style scoped>\n",
       "    .dataframe tbody tr th:only-of-type {\n",
       "        vertical-align: middle;\n",
       "    }\n",
       "\n",
       "    .dataframe tbody tr th {\n",
       "        vertical-align: top;\n",
       "    }\n",
       "\n",
       "    .dataframe thead th {\n",
       "        text-align: right;\n",
       "    }\n",
       "</style>\n",
       "<table border=\"1\" class=\"dataframe\">\n",
       "  <thead>\n",
       "    <tr style=\"text-align: right;\">\n",
       "      <th></th>\n",
       "      <th>age</th>\n",
       "      <th>anaemia</th>\n",
       "      <th>creatinine_phosphokinase</th>\n",
       "      <th>diabetes</th>\n",
       "      <th>ejection_fraction</th>\n",
       "      <th>high_blood_pressure</th>\n",
       "      <th>platelets</th>\n",
       "      <th>serum_creatinine</th>\n",
       "      <th>serum_sodium</th>\n",
       "      <th>sex</th>\n",
       "      <th>smoking</th>\n",
       "      <th>time</th>\n",
       "      <th>DEATH_EVENT</th>\n",
       "    </tr>\n",
       "  </thead>\n",
       "  <tbody>\n",
       "    <tr>\n",
       "      <th>0</th>\n",
       "      <td>75.0</td>\n",
       "      <td>0</td>\n",
       "      <td>582</td>\n",
       "      <td>0</td>\n",
       "      <td>20</td>\n",
       "      <td>1</td>\n",
       "      <td>265000.00</td>\n",
       "      <td>1.9</td>\n",
       "      <td>130</td>\n",
       "      <td>1</td>\n",
       "      <td>0</td>\n",
       "      <td>4</td>\n",
       "      <td>1</td>\n",
       "    </tr>\n",
       "    <tr>\n",
       "      <th>1</th>\n",
       "      <td>55.0</td>\n",
       "      <td>0</td>\n",
       "      <td>7861</td>\n",
       "      <td>0</td>\n",
       "      <td>38</td>\n",
       "      <td>0</td>\n",
       "      <td>263358.03</td>\n",
       "      <td>1.1</td>\n",
       "      <td>136</td>\n",
       "      <td>1</td>\n",
       "      <td>0</td>\n",
       "      <td>6</td>\n",
       "      <td>1</td>\n",
       "    </tr>\n",
       "    <tr>\n",
       "      <th>2</th>\n",
       "      <td>65.0</td>\n",
       "      <td>0</td>\n",
       "      <td>146</td>\n",
       "      <td>0</td>\n",
       "      <td>20</td>\n",
       "      <td>0</td>\n",
       "      <td>162000.00</td>\n",
       "      <td>1.3</td>\n",
       "      <td>129</td>\n",
       "      <td>1</td>\n",
       "      <td>1</td>\n",
       "      <td>7</td>\n",
       "      <td>1</td>\n",
       "    </tr>\n",
       "    <tr>\n",
       "      <th>3</th>\n",
       "      <td>50.0</td>\n",
       "      <td>1</td>\n",
       "      <td>111</td>\n",
       "      <td>0</td>\n",
       "      <td>20</td>\n",
       "      <td>0</td>\n",
       "      <td>210000.00</td>\n",
       "      <td>1.9</td>\n",
       "      <td>137</td>\n",
       "      <td>1</td>\n",
       "      <td>0</td>\n",
       "      <td>7</td>\n",
       "      <td>1</td>\n",
       "    </tr>\n",
       "    <tr>\n",
       "      <th>4</th>\n",
       "      <td>65.0</td>\n",
       "      <td>1</td>\n",
       "      <td>160</td>\n",
       "      <td>1</td>\n",
       "      <td>20</td>\n",
       "      <td>0</td>\n",
       "      <td>327000.00</td>\n",
       "      <td>2.7</td>\n",
       "      <td>116</td>\n",
       "      <td>0</td>\n",
       "      <td>0</td>\n",
       "      <td>8</td>\n",
       "      <td>1</td>\n",
       "    </tr>\n",
       "    <tr>\n",
       "      <th>5</th>\n",
       "      <td>90.0</td>\n",
       "      <td>1</td>\n",
       "      <td>47</td>\n",
       "      <td>0</td>\n",
       "      <td>40</td>\n",
       "      <td>1</td>\n",
       "      <td>204000.00</td>\n",
       "      <td>2.1</td>\n",
       "      <td>132</td>\n",
       "      <td>1</td>\n",
       "      <td>1</td>\n",
       "      <td>8</td>\n",
       "      <td>1</td>\n",
       "    </tr>\n",
       "    <tr>\n",
       "      <th>6</th>\n",
       "      <td>75.0</td>\n",
       "      <td>1</td>\n",
       "      <td>246</td>\n",
       "      <td>0</td>\n",
       "      <td>15</td>\n",
       "      <td>0</td>\n",
       "      <td>127000.00</td>\n",
       "      <td>1.2</td>\n",
       "      <td>137</td>\n",
       "      <td>1</td>\n",
       "      <td>0</td>\n",
       "      <td>10</td>\n",
       "      <td>1</td>\n",
       "    </tr>\n",
       "    <tr>\n",
       "      <th>7</th>\n",
       "      <td>60.0</td>\n",
       "      <td>1</td>\n",
       "      <td>315</td>\n",
       "      <td>1</td>\n",
       "      <td>60</td>\n",
       "      <td>0</td>\n",
       "      <td>454000.00</td>\n",
       "      <td>1.1</td>\n",
       "      <td>131</td>\n",
       "      <td>1</td>\n",
       "      <td>1</td>\n",
       "      <td>10</td>\n",
       "      <td>1</td>\n",
       "    </tr>\n",
       "    <tr>\n",
       "      <th>8</th>\n",
       "      <td>65.0</td>\n",
       "      <td>0</td>\n",
       "      <td>157</td>\n",
       "      <td>0</td>\n",
       "      <td>65</td>\n",
       "      <td>0</td>\n",
       "      <td>263358.03</td>\n",
       "      <td>1.5</td>\n",
       "      <td>138</td>\n",
       "      <td>0</td>\n",
       "      <td>0</td>\n",
       "      <td>10</td>\n",
       "      <td>1</td>\n",
       "    </tr>\n",
       "    <tr>\n",
       "      <th>9</th>\n",
       "      <td>80.0</td>\n",
       "      <td>1</td>\n",
       "      <td>123</td>\n",
       "      <td>0</td>\n",
       "      <td>35</td>\n",
       "      <td>1</td>\n",
       "      <td>388000.00</td>\n",
       "      <td>9.4</td>\n",
       "      <td>133</td>\n",
       "      <td>1</td>\n",
       "      <td>1</td>\n",
       "      <td>10</td>\n",
       "      <td>1</td>\n",
       "    </tr>\n",
       "  </tbody>\n",
       "</table>\n",
       "</div>"
      ],
      "text/plain": [
       "    age  anaemia  creatinine_phosphokinase  diabetes  ejection_fraction  \\\n",
       "0  75.0        0                       582         0                 20   \n",
       "1  55.0        0                      7861         0                 38   \n",
       "2  65.0        0                       146         0                 20   \n",
       "3  50.0        1                       111         0                 20   \n",
       "4  65.0        1                       160         1                 20   \n",
       "5  90.0        1                        47         0                 40   \n",
       "6  75.0        1                       246         0                 15   \n",
       "7  60.0        1                       315         1                 60   \n",
       "8  65.0        0                       157         0                 65   \n",
       "9  80.0        1                       123         0                 35   \n",
       "\n",
       "   high_blood_pressure  platelets  serum_creatinine  serum_sodium  sex  \\\n",
       "0                    1  265000.00               1.9           130    1   \n",
       "1                    0  263358.03               1.1           136    1   \n",
       "2                    0  162000.00               1.3           129    1   \n",
       "3                    0  210000.00               1.9           137    1   \n",
       "4                    0  327000.00               2.7           116    0   \n",
       "5                    1  204000.00               2.1           132    1   \n",
       "6                    0  127000.00               1.2           137    1   \n",
       "7                    0  454000.00               1.1           131    1   \n",
       "8                    0  263358.03               1.5           138    0   \n",
       "9                    1  388000.00               9.4           133    1   \n",
       "\n",
       "   smoking  time  DEATH_EVENT  \n",
       "0        0     4            1  \n",
       "1        0     6            1  \n",
       "2        1     7            1  \n",
       "3        0     7            1  \n",
       "4        0     8            1  \n",
       "5        1     8            1  \n",
       "6        0    10            1  \n",
       "7        1    10            1  \n",
       "8        0    10            1  \n",
       "9        1    10            1  "
      ]
     },
     "execution_count": 2,
     "metadata": {},
     "output_type": "execute_result"
    }
   ],
   "source": [
    "df = pd.read_csv('../input/heart-failure-clinical-data/heart_failure_clinical_records_dataset.csv')\n",
    "df.head(10)"
   ]
  },
  {
   "cell_type": "code",
   "execution_count": 3,
   "metadata": {
    "execution": {
     "iopub.execute_input": "2020-09-24T11:02:39.852330Z",
     "iopub.status.busy": "2020-09-24T11:02:39.851583Z",
     "iopub.status.idle": "2020-09-24T11:02:39.854657Z",
     "shell.execute_reply": "2020-09-24T11:02:39.855299Z"
    },
    "papermill": {
     "duration": 0.064368,
     "end_time": "2020-09-24T11:02:39.855468",
     "exception": false,
     "start_time": "2020-09-24T11:02:39.791100",
     "status": "completed"
    },
    "tags": []
   },
   "outputs": [
    {
     "data": {
      "text/plain": [
       "(299, 13)"
      ]
     },
     "execution_count": 3,
     "metadata": {},
     "output_type": "execute_result"
    }
   ],
   "source": [
    "df.shape"
   ]
  },
  {
   "cell_type": "markdown",
   "metadata": {
    "papermill": {
     "duration": 0.05677,
     "end_time": "2020-09-24T11:02:39.968789",
     "exception": false,
     "start_time": "2020-09-24T11:02:39.912019",
     "status": "completed"
    },
    "tags": []
   },
   "source": [
    "## Meaning of Variables:\n",
    "\n",
    "Age - Self Explanatory\n",
    "\n",
    "Anaemia - Is 1 or 0 with 1 being the patient does have this condition.\n",
    "Anemia is a condition in which you lack enough healthy red blood cells to carry adequate oxygen to your body's tissues.\n",
    "\n",
    "Creatinine Phosphokinase - Level of CPK enzyme in the blood\n",
    "\n",
    "Diabetes - Is a 1 or 0 - whether the patient suffers from diabetes or not - similar to anaemia\n",
    "\n",
    "Ejection Fraction - Is a percentage (numerical between 0 to 100)\n",
    "Ejection fraction is a measurement of the percentage of blood leaving your heart each time it contracts.\n",
    "\n",
    "High Blood Pressure - Is a 1 or 0 - whether patient suffers from high blood pressure\n",
    "\n",
    "Platelets - no. of platelets in the blood\n",
    "\n",
    "Serum Creatine - Level of Creatine produced from the kidneys in the blood\n",
    "\n",
    "Serum Sodium - Level of Sodium in the blood\n",
    "\n",
    "Sex - Self Explanatory - assuming 1 is male and 0 is female\n",
    "\n",
    "Smoking - Self Explanatory - assuming 1 is smokes and 2 is doesn't smoke\n",
    "\n",
    "Time - Follow up days\n",
    "\n",
    "Death Event - whether patient died during follow up period"
   ]
  },
  {
   "cell_type": "markdown",
   "metadata": {
    "papermill": {
     "duration": 0.055476,
     "end_time": "2020-09-24T11:02:40.080220",
     "exception": false,
     "start_time": "2020-09-24T11:02:40.024744",
     "status": "completed"
    },
    "tags": []
   },
   "source": [
    "## What sort of datatypes do we have?"
   ]
  },
  {
   "cell_type": "code",
   "execution_count": 4,
   "metadata": {
    "execution": {
     "iopub.execute_input": "2020-09-24T11:02:40.198432Z",
     "iopub.status.busy": "2020-09-24T11:02:40.197777Z",
     "iopub.status.idle": "2020-09-24T11:02:40.216592Z",
     "shell.execute_reply": "2020-09-24T11:02:40.217071Z"
    },
    "papermill": {
     "duration": 0.080559,
     "end_time": "2020-09-24T11:02:40.217232",
     "exception": false,
     "start_time": "2020-09-24T11:02:40.136673",
     "status": "completed"
    },
    "tags": []
   },
   "outputs": [
    {
     "name": "stdout",
     "output_type": "stream",
     "text": [
      "<class 'pandas.core.frame.DataFrame'>\n",
      "RangeIndex: 299 entries, 0 to 298\n",
      "Data columns (total 13 columns):\n",
      " #   Column                    Non-Null Count  Dtype  \n",
      "---  ------                    --------------  -----  \n",
      " 0   age                       299 non-null    float64\n",
      " 1   anaemia                   299 non-null    int64  \n",
      " 2   creatinine_phosphokinase  299 non-null    int64  \n",
      " 3   diabetes                  299 non-null    int64  \n",
      " 4   ejection_fraction         299 non-null    int64  \n",
      " 5   high_blood_pressure       299 non-null    int64  \n",
      " 6   platelets                 299 non-null    float64\n",
      " 7   serum_creatinine          299 non-null    float64\n",
      " 8   serum_sodium              299 non-null    int64  \n",
      " 9   sex                       299 non-null    int64  \n",
      " 10  smoking                   299 non-null    int64  \n",
      " 11  time                      299 non-null    int64  \n",
      " 12  DEATH_EVENT               299 non-null    int64  \n",
      "dtypes: float64(3), int64(10)\n",
      "memory usage: 30.5 KB\n"
     ]
    }
   ],
   "source": [
    "df.info()"
   ]
  },
  {
   "cell_type": "markdown",
   "metadata": {
    "papermill": {
     "duration": 0.056901,
     "end_time": "2020-09-24T11:02:40.331927",
     "exception": false,
     "start_time": "2020-09-24T11:02:40.275026",
     "status": "completed"
    },
    "tags": []
   },
   "source": [
    "We can see all features are numerical variables"
   ]
  },
  {
   "cell_type": "markdown",
   "metadata": {
    "papermill": {
     "duration": 0.056892,
     "end_time": "2020-09-24T11:02:40.447245",
     "exception": false,
     "start_time": "2020-09-24T11:02:40.390353",
     "status": "completed"
    },
    "tags": []
   },
   "source": [
    "## Assessing for null-values:"
   ]
  },
  {
   "cell_type": "code",
   "execution_count": 5,
   "metadata": {
    "execution": {
     "iopub.execute_input": "2020-09-24T11:02:40.565549Z",
     "iopub.status.busy": "2020-09-24T11:02:40.564285Z",
     "iopub.status.idle": "2020-09-24T11:02:40.939564Z",
     "shell.execute_reply": "2020-09-24T11:02:40.938934Z"
    },
    "papermill": {
     "duration": 0.43507,
     "end_time": "2020-09-24T11:02:40.939696",
     "exception": false,
     "start_time": "2020-09-24T11:02:40.504626",
     "status": "completed"
    },
    "tags": []
   },
   "outputs": [
    {
     "data": {
      "text/plain": [
       "<matplotlib.axes._subplots.AxesSubplot at 0x7f0e71ab8e50>"
      ]
     },
     "execution_count": 5,
     "metadata": {},
     "output_type": "execute_result"
    },
    {
     "data": {
      "image/png": "[encoded data removed]",
      "text/plain": [
       "<Figure size 864x432 with 1 Axes>"
      ]
     },
     "metadata": {
      "needs_background": "light"
     },
     "output_type": "display_data"
    }
   ],
   "source": [
    "plt.figure(figsize=(12,6))\n",
    "plt.title('Searching for missing values:')\n",
    "sns.heatmap(data=df.isnull(),cmap = 'coolwarm', cbar = False)"
   ]
  },
  {
   "cell_type": "markdown",
   "metadata": {
    "papermill": {
     "duration": 0.058327,
     "end_time": "2020-09-24T11:02:41.058546",
     "exception": false,
     "start_time": "2020-09-24T11:02:41.000219",
     "status": "completed"
    },
    "tags": []
   },
   "source": [
    "We have completely filled data - that's not to say however that we don't have any outliers!"
   ]
  },
  {
   "cell_type": "markdown",
   "metadata": {
    "papermill": {
     "duration": 0.058408,
     "end_time": "2020-09-24T11:02:41.175563",
     "exception": false,
     "start_time": "2020-09-24T11:02:41.117155",
     "status": "completed"
    },
    "tags": []
   },
   "source": [
    "## What types of features do we have?\n",
    "\n",
    "Continuous: Age, CPK, Ejection Fraction, Platelets, Serum Creatine, Serum Sodium and Time\n",
    "\n",
    "Categorical: Anaemia, Diabetes, High Blood Pressue, Sex, Smoking, Death Event\n",
    "\n",
    "We do not have any variables with mixed data types."
   ]
  },
  {
   "cell_type": "markdown",
   "metadata": {
    "papermill": {
     "duration": 0.05911,
     "end_time": "2020-09-24T11:02:41.293371",
     "exception": false,
     "start_time": "2020-09-24T11:02:41.234261",
     "status": "completed"
    },
    "tags": []
   },
   "source": [
    "## Looking for features which may contain errors/typos"
   ]
  },
  {
   "cell_type": "code",
   "execution_count": 6,
   "metadata": {
    "execution": {
     "iopub.execute_input": "2020-09-24T11:02:41.422363Z",
     "iopub.status.busy": "2020-09-24T11:02:41.421678Z",
     "iopub.status.idle": "2020-09-24T11:02:41.469077Z",
     "shell.execute_reply": "2020-09-24T11:02:41.468369Z"
    },
    "papermill": {
     "duration": 0.11721,
     "end_time": "2020-09-24T11:02:41.469193",
     "exception": false,
     "start_time": "2020-09-24T11:02:41.351983",
     "status": "completed"
    },
    "tags": []
   },
   "outputs": [
    {
     "data": {
      "text/html": [
       "<div>\n",
       "<style scoped>\n",
       "    .dataframe tbody tr th:only-of-type {\n",
       "        vertical-align: middle;\n",
       "    }\n",
       "\n",
       "    .dataframe tbody tr th {\n",
       "        vertical-align: top;\n",
       "    }\n",
       "\n",
       "    .dataframe thead th {\n",
       "        text-align: right;\n",
       "    }\n",
       "</style>\n",
       "<table border=\"1\" class=\"dataframe\">\n",
       "  <thead>\n",
       "    <tr style=\"text-align: right;\">\n",
       "      <th></th>\n",
       "      <th>age</th>\n",
       "      <th>anaemia</th>\n",
       "      <th>creatinine_phosphokinase</th>\n",
       "      <th>diabetes</th>\n",
       "      <th>ejection_fraction</th>\n",
       "      <th>high_blood_pressure</th>\n",
       "      <th>platelets</th>\n",
       "      <th>serum_creatinine</th>\n",
       "      <th>serum_sodium</th>\n",
       "      <th>sex</th>\n",
       "      <th>smoking</th>\n",
       "      <th>time</th>\n",
       "      <th>DEATH_EVENT</th>\n",
       "    </tr>\n",
       "  </thead>\n",
       "  <tbody>\n",
       "    <tr>\n",
       "      <th>count</th>\n",
       "      <td>299.000000</td>\n",
       "      <td>299.000000</td>\n",
       "      <td>299.000000</td>\n",
       "      <td>299.000000</td>\n",
       "      <td>299.000000</td>\n",
       "      <td>299.000000</td>\n",
       "      <td>299.000000</td>\n",
       "      <td>299.00000</td>\n",
       "      <td>299.000000</td>\n",
       "      <td>299.000000</td>\n",
       "      <td>299.00000</td>\n",
       "      <td>299.000000</td>\n",
       "      <td>299.00000</td>\n",
       "    </tr>\n",
       "    <tr>\n",
       "      <th>mean</th>\n",
       "      <td>60.833893</td>\n",
       "      <td>0.431438</td>\n",
       "      <td>581.839465</td>\n",
       "      <td>0.418060</td>\n",
       "      <td>38.083612</td>\n",
       "      <td>0.351171</td>\n",
       "      <td>263358.029264</td>\n",
       "      <td>1.39388</td>\n",
       "      <td>136.625418</td>\n",
       "      <td>0.648829</td>\n",
       "      <td>0.32107</td>\n",
       "      <td>130.260870</td>\n",
       "      <td>0.32107</td>\n",
       "    </tr>\n",
       "    <tr>\n",
       "      <th>std</th>\n",
       "      <td>11.894809</td>\n",
       "      <td>0.496107</td>\n",
       "      <td>970.287881</td>\n",
       "      <td>0.494067</td>\n",
       "      <td>11.834841</td>\n",
       "      <td>0.478136</td>\n",
       "      <td>97804.236869</td>\n",
       "      <td>1.03451</td>\n",
       "      <td>4.412477</td>\n",
       "      <td>0.478136</td>\n",
       "      <td>0.46767</td>\n",
       "      <td>77.614208</td>\n",
       "      <td>0.46767</td>\n",
       "    </tr>\n",
       "    <tr>\n",
       "      <th>min</th>\n",
       "      <td>40.000000</td>\n",
       "      <td>0.000000</td>\n",
       "      <td>23.000000</td>\n",
       "      <td>0.000000</td>\n",
       "      <td>14.000000</td>\n",
       "      <td>0.000000</td>\n",
       "      <td>25100.000000</td>\n",
       "      <td>0.50000</td>\n",
       "      <td>113.000000</td>\n",
       "      <td>0.000000</td>\n",
       "      <td>0.00000</td>\n",
       "      <td>4.000000</td>\n",
       "      <td>0.00000</td>\n",
       "    </tr>\n",
       "    <tr>\n",
       "      <th>25%</th>\n",
       "      <td>51.000000</td>\n",
       "      <td>0.000000</td>\n",
       "      <td>116.500000</td>\n",
       "      <td>0.000000</td>\n",
       "      <td>30.000000</td>\n",
       "      <td>0.000000</td>\n",
       "      <td>212500.000000</td>\n",
       "      <td>0.90000</td>\n",
       "      <td>134.000000</td>\n",
       "      <td>0.000000</td>\n",
       "      <td>0.00000</td>\n",
       "      <td>73.000000</td>\n",
       "      <td>0.00000</td>\n",
       "    </tr>\n",
       "    <tr>\n",
       "      <th>50%</th>\n",
       "      <td>60.000000</td>\n",
       "      <td>0.000000</td>\n",
       "      <td>250.000000</td>\n",
       "      <td>0.000000</td>\n",
       "      <td>38.000000</td>\n",
       "      <td>0.000000</td>\n",
       "      <td>262000.000000</td>\n",
       "      <td>1.10000</td>\n",
       "      <td>137.000000</td>\n",
       "      <td>1.000000</td>\n",
       "      <td>0.00000</td>\n",
       "      <td>115.000000</td>\n",
       "      <td>0.00000</td>\n",
       "    </tr>\n",
       "    <tr>\n",
       "      <th>75%</th>\n",
       "      <td>70.000000</td>\n",
       "      <td>1.000000</td>\n",
       "      <td>582.000000</td>\n",
       "      <td>1.000000</td>\n",
       "      <td>45.000000</td>\n",
       "      <td>1.000000</td>\n",
       "      <td>303500.000000</td>\n",
       "      <td>1.40000</td>\n",
       "      <td>140.000000</td>\n",
       "      <td>1.000000</td>\n",
       "      <td>1.00000</td>\n",
       "      <td>203.000000</td>\n",
       "      <td>1.00000</td>\n",
       "    </tr>\n",
       "    <tr>\n",
       "      <th>max</th>\n",
       "      <td>95.000000</td>\n",
       "      <td>1.000000</td>\n",
       "      <td>7861.000000</td>\n",
       "      <td>1.000000</td>\n",
       "      <td>80.000000</td>\n",
       "      <td>1.000000</td>\n",
       "      <td>850000.000000</td>\n",
       "      <td>9.40000</td>\n",
       "      <td>148.000000</td>\n",
       "      <td>1.000000</td>\n",
       "      <td>1.00000</td>\n",
       "      <td>285.000000</td>\n",
       "      <td>1.00000</td>\n",
       "    </tr>\n",
       "  </tbody>\n",
       "</table>\n",
       "</div>"
      ],
      "text/plain": [
       "              age     anaemia  creatinine_phosphokinase    diabetes  \\\n",
       "count  299.000000  299.000000                299.000000  299.000000   \n",
       "mean    60.833893    0.431438                581.839465    0.418060   \n",
       "std     11.894809    0.496107                970.287881    0.494067   \n",
       "min     40.000000    0.000000                 23.000000    0.000000   \n",
       "25%     51.000000    0.000000                116.500000    0.000000   \n",
       "50%     60.000000    0.000000                250.000000    0.000000   \n",
       "75%     70.000000    1.000000                582.000000    1.000000   \n",
       "max     95.000000    1.000000               7861.000000    1.000000   \n",
       "\n",
       "       ejection_fraction  high_blood_pressure      platelets  \\\n",
       "count         299.000000           299.000000     299.000000   \n",
       "mean           38.083612             0.351171  263358.029264   \n",
       "std            11.834841             0.478136   97804.236869   \n",
       "min            14.000000             0.000000   25100.000000   \n",
       "25%            30.000000             0.000000  212500.000000   \n",
       "50%            38.000000             0.000000  262000.000000   \n",
       "75%            45.000000             1.000000  303500.000000   \n",
       "max            80.000000             1.000000  850000.000000   \n",
       "\n",
       "       serum_creatinine  serum_sodium         sex    smoking        time  \\\n",
       "count         299.00000    299.000000  299.000000  299.00000  299.000000   \n",
       "mean            1.39388    136.625418    0.648829    0.32107  130.260870   \n",
       "std             1.03451      4.412477    0.478136    0.46767   77.614208   \n",
       "min             0.50000    113.000000    0.000000    0.00000    4.000000   \n",
       "25%             0.90000    134.000000    0.000000    0.00000   73.000000   \n",
       "50%             1.10000    137.000000    1.000000    0.00000  115.000000   \n",
       "75%             1.40000    140.000000    1.000000    1.00000  203.000000   \n",
       "max             9.40000    148.000000    1.000000    1.00000  285.000000   \n",
       "\n",
       "       DEATH_EVENT  \n",
       "count    299.00000  \n",
       "mean       0.32107  \n",
       "std        0.46767  \n",
       "min        0.00000  \n",
       "25%        0.00000  \n",
       "50%        0.00000  \n",
       "75%        1.00000  \n",
       "max        1.00000  "
      ]
     },
     "execution_count": 6,
     "metadata": {},
     "output_type": "execute_result"
    }
   ],
   "source": [
    "df.describe()"
   ]
  },
  {
   "cell_type": "markdown",
   "metadata": {
    "papermill": {
     "duration": 0.058809,
     "end_time": "2020-09-24T11:02:41.588009",
     "exception": false,
     "start_time": "2020-09-24T11:02:41.529200",
     "status": "completed"
    },
    "tags": []
   },
   "source": [
    "### Conclusions:\n",
    "\n",
    "1. We seem to have outliers for CPK - since the max value is way higher than expected from the 75% quartile. With the same reasoning, this is the same for Platelets (+ fact that min is 25100) and Serum Creatinine and ejection fraction and possibly time. These need to be corrected\n",
    "2. The remaining variables: Continuous (Age, Serum Sodium, Time) and Categoricals (remaining 5 variables) are fine - in total we've accounted for all 12 variables - excluding Death Event.\n",
    "\n",
    "Aside from this:\n",
    "1. 96 of the 299 (32%) patients in the sample passed away"
   ]
  },
  {
   "cell_type": "markdown",
   "metadata": {
    "papermill": {
     "duration": 0.059165,
     "end_time": "2020-09-24T11:02:41.706745",
     "exception": false,
     "start_time": "2020-09-24T11:02:41.647580",
     "status": "completed"
    },
    "tags": []
   },
   "source": [
    "## Assessing the distribution of the features:\n",
    "\n",
    "## Continuous Features:"
   ]
  },
  {
   "cell_type": "code",
   "execution_count": 7,
   "metadata": {
    "execution": {
     "iopub.execute_input": "2020-09-24T11:02:41.842453Z",
     "iopub.status.busy": "2020-09-24T11:02:41.841123Z",
     "iopub.status.idle": "2020-09-24T11:02:43.055975Z",
     "shell.execute_reply": "2020-09-24T11:02:43.055326Z"
    },
    "papermill": {
     "duration": 1.290008,
     "end_time": "2020-09-24T11:02:43.056095",
     "exception": false,
     "start_time": "2020-09-24T11:02:41.766087",
     "status": "completed"
    },
    "tags": []
   },
   "outputs": [
    {
     "data": {
      "image/png": "[encoded data removed]",
      "text/plain": [
       "<Figure size 1080x648 with 6 Axes>"
      ]
     },
     "metadata": {},
     "output_type": "display_data"
    }
   ],
   "source": [
    "plt.style.use('ggplot')\n",
    "fig, axis  = plt.subplots(nrows = 3, ncols = 2, figsize = (15,9))\n",
    "\n",
    "ax0, ax1, ax2, ax3, ax4, ax5 = axis.flatten()\n",
    "\n",
    "ax0.hist(df['age'])\n",
    "ax0.set_xlabel('Age')\n",
    "\n",
    "ax1.hist(df['creatinine_phosphokinase'])\n",
    "ax1.set_xlabel('CPK Enzyme')\n",
    "\n",
    "ax2.hist(df['platelets'], bins = 15)\n",
    "ax2.set_xlabel('Platelets')\n",
    "\n",
    "ax3.hist(df['serum_creatinine'])\n",
    "ax3.set_xlabel('Serum Creatinine')\n",
    "\n",
    "ax4.hist(df['serum_sodium'], bins = 15)\n",
    "ax4.set_xlabel('Serum Sodium')\n",
    "\n",
    "ax5.hist(df['ejection_fraction'])\n",
    "ax5.set_xlabel('Ejection Fraction')\n",
    "\n",
    "plt.tight_layout()"
   ]
  },
  {
   "cell_type": "markdown",
   "metadata": {
    "papermill": {
     "duration": 0.06017,
     "end_time": "2020-09-24T11:02:43.176906",
     "exception": false,
     "start_time": "2020-09-24T11:02:43.116736",
     "status": "completed"
    },
    "tags": []
   },
   "source": [
    "### Conclusions:\n",
    "\n",
    "- The majority of patients were aged between 50-65 - with around a third of patients above 65 \n",
    "- Our remarks from above regarding the possibility of outliers have been confirmed as shown by the plots for the CPK enzyme, platelet counts, creatinine, sodium and ejection fraction\n",
    "- Most patients CPK in fact were below 1000\n",
    "- Serum Creatinine was less than 2 (>75%)\n",
    "- Platelets varied between 150K-400K\n",
    "- Sodium varied between 132-142\n",
    "- Ejection Fraction varied significantly amongst patients with some as low as 15% as high as 55% excluding outliers"
   ]
  },
  {
   "cell_type": "markdown",
   "metadata": {
    "papermill": {
     "duration": 0.061515,
     "end_time": "2020-09-24T11:02:43.299679",
     "exception": false,
     "start_time": "2020-09-24T11:02:43.238164",
     "status": "completed"
    },
    "tags": []
   },
   "source": [
    "## Now looking at distributions of the categorical variables:"
   ]
  },
  {
   "cell_type": "code",
   "execution_count": 8,
   "metadata": {
    "execution": {
     "iopub.execute_input": "2020-09-24T11:02:43.434631Z",
     "iopub.status.busy": "2020-09-24T11:02:43.433564Z",
     "iopub.status.idle": "2020-09-24T11:02:44.031852Z",
     "shell.execute_reply": "2020-09-24T11:02:44.031295Z"
    },
    "papermill": {
     "duration": 0.671352,
     "end_time": "2020-09-24T11:02:44.031961",
     "exception": false,
     "start_time": "2020-09-24T11:02:43.360609",
     "status": "completed"
    },
    "tags": []
   },
   "outputs": [
    {
     "data": {
      "image/png": "[encoded data removed]",
      "text/plain": [
       "<Figure size 864x432 with 5 Axes>"
      ]
     },
     "metadata": {},
     "output_type": "display_data"
    }
   ],
   "source": [
    "fig, ax  = plt.subplots(nrows = 3, ncols = 2, figsize = (12,6))\n",
    "plt.tight_layout()\n",
    "sns.countplot(df['anaemia'], ax=ax[0,0])\n",
    "sns.countplot(df['diabetes'], ax=ax[0,1])\n",
    "sns.countplot(df['high_blood_pressure'], ax=ax[1,0])\n",
    "sns.countplot(df['sex'], ax=ax[1,1])\n",
    "sns.countplot(df['smoking'], ax=ax[2,0])\n",
    "fig.delaxes(ax[2,1])"
   ]
  },
  {
   "cell_type": "code",
   "execution_count": 9,
   "metadata": {
    "execution": {
     "iopub.execute_input": "2020-09-24T11:02:44.164720Z",
     "iopub.status.busy": "2020-09-24T11:02:44.163725Z",
     "iopub.status.idle": "2020-09-24T11:02:44.200414Z",
     "shell.execute_reply": "2020-09-24T11:02:44.199854Z"
    },
    "papermill": {
     "duration": 0.106852,
     "end_time": "2020-09-24T11:02:44.200524",
     "exception": false,
     "start_time": "2020-09-24T11:02:44.093672",
     "status": "completed"
    },
    "tags": []
   },
   "outputs": [
    {
     "data": {
      "text/html": [
       "<div>\n",
       "<style scoped>\n",
       "    .dataframe tbody tr th:only-of-type {\n",
       "        vertical-align: middle;\n",
       "    }\n",
       "\n",
       "    .dataframe tbody tr th {\n",
       "        vertical-align: top;\n",
       "    }\n",
       "\n",
       "    .dataframe thead th {\n",
       "        text-align: right;\n",
       "    }\n",
       "</style>\n",
       "<table border=\"1\" class=\"dataframe\">\n",
       "  <thead>\n",
       "    <tr style=\"text-align: right;\">\n",
       "      <th></th>\n",
       "      <th>Anaemia</th>\n",
       "      <th>Diabetes</th>\n",
       "      <th>High Blood Pressure</th>\n",
       "      <th>Sex</th>\n",
       "      <th>Smoking</th>\n",
       "    </tr>\n",
       "  </thead>\n",
       "  <tbody>\n",
       "    <tr>\n",
       "      <th>1</th>\n",
       "      <td>0.431438</td>\n",
       "      <td>0.41806</td>\n",
       "      <td>0.351171</td>\n",
       "      <td>0.648829</td>\n",
       "      <td>0.32107</td>\n",
       "    </tr>\n",
       "  </tbody>\n",
       "</table>\n",
       "</div>"
      ],
      "text/plain": [
       "    Anaemia  Diabetes  High Blood Pressure       Sex  Smoking\n",
       "1  0.431438   0.41806             0.351171  0.648829  0.32107"
      ]
     },
     "execution_count": 9,
     "metadata": {},
     "output_type": "execute_result"
    }
   ],
   "source": [
    "x1 = (len(df[df['anaemia'] == 1]))/len(df['anaemia'])\n",
    "x2 = (len(df[df['diabetes'] == 1]))/len(df['diabetes'])\n",
    "x3 = (len(df[df['high_blood_pressure'] == 1]))/len(df['high_blood_pressure'])\n",
    "x4 = (len(df[df['sex'] == 1]))/len(df['sex'])\n",
    "x5 = (len(df[df['smoking'] == 1]))/len(df['smoking'])\n",
    "\n",
    "data = {'Anaemia': x1, 'Diabetes': x2, 'High Blood Pressure': x3, 'Sex': x4, \n",
    "       'Smoking': x5}\n",
    "categ_zeros = pd.DataFrame(data, index=[1])\n",
    "categ_zeros"
   ]
  },
  {
   "cell_type": "markdown",
   "metadata": {
    "papermill": {
     "duration": 0.062535,
     "end_time": "2020-09-24T11:02:44.325349",
     "exception": false,
     "start_time": "2020-09-24T11:02:44.262814",
     "status": "completed"
    },
    "tags": []
   },
   "source": [
    "## Conclusion:\n",
    "\n",
    "- The majority of patients in this sample (65%) are male by assumption that 1 = Male\n",
    "- Around a third of patients suffered from either High Blood Pressure, Smoking or both\n",
    "- Around 40% of the sample either had anaemia or diabeters or both too."
   ]
  },
  {
   "cell_type": "markdown",
   "metadata": {
    "papermill": {
     "duration": 0.06203,
     "end_time": "2020-09-24T11:02:44.449875",
     "exception": false,
     "start_time": "2020-09-24T11:02:44.387845",
     "status": "completed"
    },
    "tags": []
   },
   "source": [
    "### Assumptions based on data analysis\n",
    "\n",
    "We arrive at following assumptions based on data analysis done so far. We may validate these assumptions further before taking appropriate actions.\n",
    "\n",
    "**Completing.**\n",
    "\n",
    "- No variables require completing\n",
    "\n",
    "**Correcting.**\n",
    "\n",
    "1. We may want to correct the above mentioned variables in the event we find that there is some correlation with survival\n",
    "\n",
    "\n",
    "**Creating.**\n",
    "\n",
    "1. We may want create bands for age given that patients become more vulnerable as the get older.\n",
    "2. Given how broad the time feature is in terms of values - we may want to also create a band for this if there is indeed a relationships with survival\n",
    "3. We may want to create a new column denoting whether the patient had any sort of underlying condition i.e. anaemia, diabetes or high blood pressure\n",
    "\n",
    "**Classifying.**\n",
    "\n",
    "Additional assumptions:\n",
    "\n",
    "1. Women may have higher chances of survival than men\n",
    "2. Those who had less time in follow up days had higher chances of survival\n",
    "3. Those who were younger than a certain age had higher chances of survival"
   ]
  },
  {
   "cell_type": "markdown",
   "metadata": {
    "papermill": {
     "duration": 0.061643,
     "end_time": "2020-09-24T11:02:44.574346",
     "exception": false,
     "start_time": "2020-09-24T11:02:44.512703",
     "status": "completed"
    },
    "tags": []
   },
   "source": [
    "## Analyzing relationships between survival and categorical variables via grouping:"
   ]
  },
  {
   "cell_type": "code",
   "execution_count": 10,
   "metadata": {
    "execution": {
     "iopub.execute_input": "2020-09-24T11:02:44.712585Z",
     "iopub.status.busy": "2020-09-24T11:02:44.711929Z",
     "iopub.status.idle": "2020-09-24T11:02:44.714913Z",
     "shell.execute_reply": "2020-09-24T11:02:44.715512Z"
    },
    "papermill": {
     "duration": 0.078972,
     "end_time": "2020-09-24T11:02:44.715659",
     "exception": false,
     "start_time": "2020-09-24T11:02:44.636687",
     "status": "completed"
    },
    "tags": []
   },
   "outputs": [
    {
     "data": {
      "text/html": [
       "<div>\n",
       "<style scoped>\n",
       "    .dataframe tbody tr th:only-of-type {\n",
       "        vertical-align: middle;\n",
       "    }\n",
       "\n",
       "    .dataframe tbody tr th {\n",
       "        vertical-align: top;\n",
       "    }\n",
       "\n",
       "    .dataframe thead th {\n",
       "        text-align: right;\n",
       "    }\n",
       "</style>\n",
       "<table border=\"1\" class=\"dataframe\">\n",
       "  <thead>\n",
       "    <tr style=\"text-align: right;\">\n",
       "      <th></th>\n",
       "      <th>sex</th>\n",
       "      <th>DEATH_EVENT</th>\n",
       "    </tr>\n",
       "  </thead>\n",
       "  <tbody>\n",
       "    <tr>\n",
       "      <th>0</th>\n",
       "      <td>0</td>\n",
       "      <td>0.323810</td>\n",
       "    </tr>\n",
       "    <tr>\n",
       "      <th>1</th>\n",
       "      <td>1</td>\n",
       "      <td>0.319588</td>\n",
       "    </tr>\n",
       "  </tbody>\n",
       "</table>\n",
       "</div>"
      ],
      "text/plain": [
       "   sex  DEATH_EVENT\n",
       "0    0     0.323810\n",
       "1    1     0.319588"
      ]
     },
     "execution_count": 10,
     "metadata": {},
     "output_type": "execute_result"
    }
   ],
   "source": [
    "df[['sex', 'DEATH_EVENT']].groupby(['sex'], as_index = False).mean()"
   ]
  },
  {
   "cell_type": "code",
   "execution_count": 11,
   "metadata": {
    "execution": {
     "iopub.execute_input": "2020-09-24T11:02:44.845053Z",
     "iopub.status.busy": "2020-09-24T11:02:44.844382Z",
     "iopub.status.idle": "2020-09-24T11:02:44.856700Z",
     "shell.execute_reply": "2020-09-24T11:02:44.857196Z"
    },
    "papermill": {
     "duration": 0.079058,
     "end_time": "2020-09-24T11:02:44.857328",
     "exception": false,
     "start_time": "2020-09-24T11:02:44.778270",
     "status": "completed"
    },
    "tags": []
   },
   "outputs": [
    {
     "data": {
      "text/html": [
       "<div>\n",
       "<style scoped>\n",
       "    .dataframe tbody tr th:only-of-type {\n",
       "        vertical-align: middle;\n",
       "    }\n",
       "\n",
       "    .dataframe tbody tr th {\n",
       "        vertical-align: top;\n",
       "    }\n",
       "\n",
       "    .dataframe thead th {\n",
       "        text-align: right;\n",
       "    }\n",
       "</style>\n",
       "<table border=\"1\" class=\"dataframe\">\n",
       "  <thead>\n",
       "    <tr style=\"text-align: right;\">\n",
       "      <th></th>\n",
       "      <th>smoking</th>\n",
       "      <th>DEATH_EVENT</th>\n",
       "    </tr>\n",
       "  </thead>\n",
       "  <tbody>\n",
       "    <tr>\n",
       "      <th>0</th>\n",
       "      <td>0</td>\n",
       "      <td>0.325123</td>\n",
       "    </tr>\n",
       "    <tr>\n",
       "      <th>1</th>\n",
       "      <td>1</td>\n",
       "      <td>0.312500</td>\n",
       "    </tr>\n",
       "  </tbody>\n",
       "</table>\n",
       "</div>"
      ],
      "text/plain": [
       "   smoking  DEATH_EVENT\n",
       "0        0     0.325123\n",
       "1        1     0.312500"
      ]
     },
     "execution_count": 11,
     "metadata": {},
     "output_type": "execute_result"
    }
   ],
   "source": [
    "df[['smoking', 'DEATH_EVENT']].groupby(['smoking'], as_index = False).mean()"
   ]
  },
  {
   "cell_type": "code",
   "execution_count": 12,
   "metadata": {
    "execution": {
     "iopub.execute_input": "2020-09-24T11:02:44.989969Z",
     "iopub.status.busy": "2020-09-24T11:02:44.988975Z",
     "iopub.status.idle": "2020-09-24T11:02:45.002151Z",
     "shell.execute_reply": "2020-09-24T11:02:45.002682Z"
    },
    "papermill": {
     "duration": 0.081537,
     "end_time": "2020-09-24T11:02:45.002826",
     "exception": false,
     "start_time": "2020-09-24T11:02:44.921289",
     "status": "completed"
    },
    "tags": []
   },
   "outputs": [
    {
     "data": {
      "text/html": [
       "<div>\n",
       "<style scoped>\n",
       "    .dataframe tbody tr th:only-of-type {\n",
       "        vertical-align: middle;\n",
       "    }\n",
       "\n",
       "    .dataframe tbody tr th {\n",
       "        vertical-align: top;\n",
       "    }\n",
       "\n",
       "    .dataframe thead th {\n",
       "        text-align: right;\n",
       "    }\n",
       "</style>\n",
       "<table border=\"1\" class=\"dataframe\">\n",
       "  <thead>\n",
       "    <tr style=\"text-align: right;\">\n",
       "      <th></th>\n",
       "      <th>anaemia</th>\n",
       "      <th>DEATH_EVENT</th>\n",
       "    </tr>\n",
       "  </thead>\n",
       "  <tbody>\n",
       "    <tr>\n",
       "      <th>0</th>\n",
       "      <td>0</td>\n",
       "      <td>0.294118</td>\n",
       "    </tr>\n",
       "    <tr>\n",
       "      <th>1</th>\n",
       "      <td>1</td>\n",
       "      <td>0.356589</td>\n",
       "    </tr>\n",
       "  </tbody>\n",
       "</table>\n",
       "</div>"
      ],
      "text/plain": [
       "   anaemia  DEATH_EVENT\n",
       "0        0     0.294118\n",
       "1        1     0.356589"
      ]
     },
     "execution_count": 12,
     "metadata": {},
     "output_type": "execute_result"
    }
   ],
   "source": [
    "df[['anaemia', 'DEATH_EVENT']].groupby(['anaemia'], as_index = False).mean()"
   ]
  },
  {
   "cell_type": "code",
   "execution_count": 13,
   "metadata": {
    "execution": {
     "iopub.execute_input": "2020-09-24T11:02:45.134577Z",
     "iopub.status.busy": "2020-09-24T11:02:45.133587Z",
     "iopub.status.idle": "2020-09-24T11:02:45.146520Z",
     "shell.execute_reply": "2020-09-24T11:02:45.147024Z"
    },
    "papermill": {
     "duration": 0.080481,
     "end_time": "2020-09-24T11:02:45.147177",
     "exception": false,
     "start_time": "2020-09-24T11:02:45.066696",
     "status": "completed"
    },
    "tags": []
   },
   "outputs": [
    {
     "data": {
      "text/html": [
       "<div>\n",
       "<style scoped>\n",
       "    .dataframe tbody tr th:only-of-type {\n",
       "        vertical-align: middle;\n",
       "    }\n",
       "\n",
       "    .dataframe tbody tr th {\n",
       "        vertical-align: top;\n",
       "    }\n",
       "\n",
       "    .dataframe thead th {\n",
       "        text-align: right;\n",
       "    }\n",
       "</style>\n",
       "<table border=\"1\" class=\"dataframe\">\n",
       "  <thead>\n",
       "    <tr style=\"text-align: right;\">\n",
       "      <th></th>\n",
       "      <th>diabetes</th>\n",
       "      <th>DEATH_EVENT</th>\n",
       "    </tr>\n",
       "  </thead>\n",
       "  <tbody>\n",
       "    <tr>\n",
       "      <th>0</th>\n",
       "      <td>0</td>\n",
       "      <td>0.321839</td>\n",
       "    </tr>\n",
       "    <tr>\n",
       "      <th>1</th>\n",
       "      <td>1</td>\n",
       "      <td>0.320000</td>\n",
       "    </tr>\n",
       "  </tbody>\n",
       "</table>\n",
       "</div>"
      ],
      "text/plain": [
       "   diabetes  DEATH_EVENT\n",
       "0         0     0.321839\n",
       "1         1     0.320000"
      ]
     },
     "execution_count": 13,
     "metadata": {},
     "output_type": "execute_result"
    }
   ],
   "source": [
    "df[['diabetes', 'DEATH_EVENT']].groupby(['diabetes'], as_index = False).mean()"
   ]
  },
  {
   "cell_type": "code",
   "execution_count": 14,
   "metadata": {
    "execution": {
     "iopub.execute_input": "2020-09-24T11:02:45.279561Z",
     "iopub.status.busy": "2020-09-24T11:02:45.278557Z",
     "iopub.status.idle": "2020-09-24T11:02:45.291611Z",
     "shell.execute_reply": "2020-09-24T11:02:45.292128Z"
    },
    "papermill": {
     "duration": 0.08095,
     "end_time": "2020-09-24T11:02:45.292281",
     "exception": false,
     "start_time": "2020-09-24T11:02:45.211331",
     "status": "completed"
    },
    "tags": []
   },
   "outputs": [
    {
     "data": {
      "text/html": [
       "<div>\n",
       "<style scoped>\n",
       "    .dataframe tbody tr th:only-of-type {\n",
       "        vertical-align: middle;\n",
       "    }\n",
       "\n",
       "    .dataframe tbody tr th {\n",
       "        vertical-align: top;\n",
       "    }\n",
       "\n",
       "    .dataframe thead th {\n",
       "        text-align: right;\n",
       "    }\n",
       "</style>\n",
       "<table border=\"1\" class=\"dataframe\">\n",
       "  <thead>\n",
       "    <tr style=\"text-align: right;\">\n",
       "      <th></th>\n",
       "      <th>high_blood_pressure</th>\n",
       "      <th>DEATH_EVENT</th>\n",
       "    </tr>\n",
       "  </thead>\n",
       "  <tbody>\n",
       "    <tr>\n",
       "      <th>0</th>\n",
       "      <td>0</td>\n",
       "      <td>0.293814</td>\n",
       "    </tr>\n",
       "    <tr>\n",
       "      <th>1</th>\n",
       "      <td>1</td>\n",
       "      <td>0.371429</td>\n",
       "    </tr>\n",
       "  </tbody>\n",
       "</table>\n",
       "</div>"
      ],
      "text/plain": [
       "   high_blood_pressure  DEATH_EVENT\n",
       "0                    0     0.293814\n",
       "1                    1     0.371429"
      ]
     },
     "execution_count": 14,
     "metadata": {},
     "output_type": "execute_result"
    }
   ],
   "source": [
    "df[['high_blood_pressure', 'DEATH_EVENT']].groupby(['high_blood_pressure'], \n",
    "                                                   as_index = False).mean()"
   ]
  },
  {
   "cell_type": "markdown",
   "metadata": {
    "papermill": {
     "duration": 0.064986,
     "end_time": "2020-09-24T11:02:45.422718",
     "exception": false,
     "start_time": "2020-09-24T11:02:45.357732",
     "status": "completed"
    },
    "tags": []
   },
   "source": [
    "## Conclusions:\n",
    "\n",
    "What we notice here is that there does not seem to be any correlation between  whether the patients had any underlying health conditions, their sex or whether they smoked against whether they died or not.\n",
    "In conclusion we can say assumptions 1 and 4 made above are false.\n",
    "\n",
    "Before we can discard these variables - it is best to see if we see if we can create a new feature out of these before dropping them. For example - we could create a new categorical feature denoting whether the patient has an underlying condition or not (diabetes, anaemia, high blood pressure). For sex and smoking - it seems so that we should drop them but before we do this, we do so we should check for underlying relationships with numerical variables."
   ]
  },
  {
   "cell_type": "markdown",
   "metadata": {
    "papermill": {
     "duration": 0.064528,
     "end_time": "2020-09-24T11:02:45.552210",
     "exception": false,
     "start_time": "2020-09-24T11:02:45.487682",
     "status": "completed"
    },
    "tags": []
   },
   "source": [
    "## Analyzing relationships between survival and numerical variables:\n",
    "\n",
    "Firstly a heatmap will come in very useful.\n",
    "\n",
    "We immediately notice that there appears to be correlation between death with either age, no. of follow up days, ejection fraction and serum sodium."
   ]
  },
  {
   "cell_type": "code",
   "execution_count": 15,
   "metadata": {
    "execution": {
     "iopub.execute_input": "2020-09-24T11:02:45.686748Z",
     "iopub.status.busy": "2020-09-24T11:02:45.685721Z",
     "iopub.status.idle": "2020-09-24T11:02:46.164089Z",
     "shell.execute_reply": "2020-09-24T11:02:46.163560Z"
    },
    "papermill": {
     "duration": 0.546942,
     "end_time": "2020-09-24T11:02:46.164205",
     "exception": false,
     "start_time": "2020-09-24T11:02:45.617263",
     "status": "completed"
    },
    "tags": []
   },
   "outputs": [
    {
     "data": {
      "text/plain": [
       "<matplotlib.axes._subplots.AxesSubplot at 0x7f0e6ad99110>"
      ]
     },
     "execution_count": 15,
     "metadata": {},
     "output_type": "execute_result"
    },
    {
     "data": {
      "image/png": "[encoded data removed]",
      "text/plain": [
       "<Figure size 864x432 with 2 Axes>"
      ]
     },
     "metadata": {},
     "output_type": "display_data"
    }
   ],
   "source": [
    "plt.figure(figsize = (12,6))\n",
    "sns.heatmap(df[['age', 'creatinine_phosphokinase', 'ejection_fraction', 'platelets', 'serum_creatinine', 'serum_sodium', 'time', 'DEATH_EVENT']].corr(), cmap = 'coolwarm', annot = True)"
   ]
  },
  {
   "cell_type": "code",
   "execution_count": 16,
   "metadata": {
    "execution": {
     "iopub.execute_input": "2020-09-24T11:02:46.352286Z",
     "iopub.status.busy": "2020-09-24T11:02:46.351677Z",
     "iopub.status.idle": "2020-09-24T11:02:46.691793Z",
     "shell.execute_reply": "2020-09-24T11:02:46.692374Z"
    },
    "papermill": {
     "duration": 0.414691,
     "end_time": "2020-09-24T11:02:46.692535",
     "exception": false,
     "start_time": "2020-09-24T11:02:46.277844",
     "status": "completed"
    },
    "tags": []
   },
   "outputs": [
    {
     "data": {
      "text/plain": [
       "<seaborn.axisgrid.FacetGrid at 0x7f0e6815cad0>"
      ]
     },
     "execution_count": 16,
     "metadata": {},
     "output_type": "execute_result"
    },
    {
     "data": {
      "image/png": "[encoded data removed]",
      "text/plain": [
       "<Figure size 432x216 with 2 Axes>"
      ]
     },
     "metadata": {},
     "output_type": "display_data"
    }
   ],
   "source": [
    "g = sns.FacetGrid(df, col = 'DEATH_EVENT')\n",
    "g.map(plt.hist, 'age')"
   ]
  },
  {
   "cell_type": "code",
   "execution_count": 17,
   "metadata": {
    "execution": {
     "iopub.execute_input": "2020-09-24T11:02:46.834547Z",
     "iopub.status.busy": "2020-09-24T11:02:46.833841Z",
     "iopub.status.idle": "2020-09-24T11:02:47.176661Z",
     "shell.execute_reply": "2020-09-24T11:02:47.176058Z"
    },
    "papermill": {
     "duration": 0.415814,
     "end_time": "2020-09-24T11:02:47.176783",
     "exception": false,
     "start_time": "2020-09-24T11:02:46.760969",
     "status": "completed"
    },
    "tags": []
   },
   "outputs": [
    {
     "data": {
      "text/plain": [
       "<seaborn.axisgrid.FacetGrid at 0x7f0e667e6490>"
      ]
     },
     "execution_count": 17,
     "metadata": {},
     "output_type": "execute_result"
    },
    {
     "data": {
      "image/png": "[encoded data removed]",
      "text/plain": [
       "<Figure size 432x216 with 2 Axes>"
      ]
     },
     "metadata": {},
     "output_type": "display_data"
    }
   ],
   "source": [
    "g = sns.FacetGrid(df, col = 'DEATH_EVENT')\n",
    "g.map(plt.hist, 'time')"
   ]
  },
  {
   "cell_type": "code",
   "execution_count": 18,
   "metadata": {
    "execution": {
     "iopub.execute_input": "2020-09-24T11:02:47.322328Z",
     "iopub.status.busy": "2020-09-24T11:02:47.321670Z",
     "iopub.status.idle": "2020-09-24T11:02:47.677814Z",
     "shell.execute_reply": "2020-09-24T11:02:47.678281Z"
    },
    "papermill": {
     "duration": 0.43176,
     "end_time": "2020-09-24T11:02:47.678455",
     "exception": false,
     "start_time": "2020-09-24T11:02:47.246695",
     "status": "completed"
    },
    "tags": []
   },
   "outputs": [
    {
     "data": {
      "text/plain": [
       "<seaborn.axisgrid.FacetGrid at 0x7f0e66885090>"
      ]
     },
     "execution_count": 18,
     "metadata": {},
     "output_type": "execute_result"
    },
    {
     "data": {
      "image/png": "[encoded data removed]",
      "text/plain": [
       "<Figure size 432x216 with 2 Axes>"
      ]
     },
     "metadata": {},
     "output_type": "display_data"
    }
   ],
   "source": [
    "g = sns.FacetGrid(df, col = 'DEATH_EVENT')\n",
    "g.map(plt.hist, 'ejection_fraction')"
   ]
  },
  {
   "cell_type": "code",
   "execution_count": 19,
   "metadata": {
    "execution": {
     "iopub.execute_input": "2020-09-24T11:02:47.824513Z",
     "iopub.status.busy": "2020-09-24T11:02:47.823847Z",
     "iopub.status.idle": "2020-09-24T11:02:48.186436Z",
     "shell.execute_reply": "2020-09-24T11:02:48.185751Z"
    },
    "papermill": {
     "duration": 0.436884,
     "end_time": "2020-09-24T11:02:48.186556",
     "exception": false,
     "start_time": "2020-09-24T11:02:47.749672",
     "status": "completed"
    },
    "tags": []
   },
   "outputs": [
    {
     "data": {
      "text/plain": [
       "<seaborn.axisgrid.FacetGrid at 0x7f0e667fd390>"
      ]
     },
     "execution_count": 19,
     "metadata": {},
     "output_type": "execute_result"
    },
    {
     "data": {
      "image/png": "[encoded data removed]",
      "text/plain": [
       "<Figure size 432x216 with 2 Axes>"
      ]
     },
     "metadata": {},
     "output_type": "display_data"
    }
   ],
   "source": [
    "g = sns.FacetGrid(df, col = 'DEATH_EVENT')\n",
    "g.map(plt.hist, 'serum_creatinine')"
   ]
  },
  {
   "cell_type": "markdown",
   "metadata": {
    "papermill": {
     "duration": 0.073423,
     "end_time": "2020-09-24T11:02:48.332996",
     "exception": false,
     "start_time": "2020-09-24T11:02:48.259573",
     "status": "completed"
    },
    "tags": []
   },
   "source": [
    "## Conclusions: \n",
    "\n",
    "1. Those over 70 had higher chances of dying, whilst many under 50 had higher chances of surival suggesting the need to band ages. So assumption #3 is true!\n",
    "2. Those with a larger amount of follow up days tended to survive whilst those with less (<50) ended up with a higher mortality - for model building purposes we would like to band this too. This was in fact the opposite our assumption #2.\n",
    "3. With regards to the ejection fraction, what we can see it that with high percentages had lower deaths. Those with lower percentages (<30%) had more deaths - again suggesting that we should create some bands.\n",
    "4. Patients with higher creatinine levels suffered more deaths whist the vast majority (75%) who had percentages less than 1.4 has greater survival rates.\n",
    "5. Platelets and CPK enzymes do not seem to have an effect with survival as well as with other variables - it makes sense to drop these\n",
    "\n",
    "We can conclude that we have 4 numerical features which are all useful for our model building and that these features need to be sorted out in terms of outliers should they contain any. We would also like to create bands on the four of these."
   ]
  },
  {
   "cell_type": "markdown",
   "metadata": {
    "papermill": {
     "duration": 0.072182,
     "end_time": "2020-09-24T11:02:48.478099",
     "exception": false,
     "start_time": "2020-09-24T11:02:48.405917",
     "status": "completed"
    },
    "tags": []
   },
   "source": [
    "# Analyzing relationships between categorical and numerical variables:"
   ]
  },
  {
   "cell_type": "code",
   "execution_count": 20,
   "metadata": {
    "execution": {
     "iopub.execute_input": "2020-09-24T11:02:48.735170Z",
     "iopub.status.busy": "2020-09-24T11:02:48.635903Z",
     "iopub.status.idle": "2020-09-24T11:02:49.719618Z",
     "shell.execute_reply": "2020-09-24T11:02:49.719013Z"
    },
    "papermill": {
     "duration": 1.169086,
     "end_time": "2020-09-24T11:02:49.719758",
     "exception": false,
     "start_time": "2020-09-24T11:02:48.550672",
     "status": "completed"
    },
    "tags": []
   },
   "outputs": [
    {
     "data": {
      "text/plain": [
       "<seaborn.axisgrid.FacetGrid at 0x7f0e68112110>"
      ]
     },
     "execution_count": 20,
     "metadata": {},
     "output_type": "execute_result"
    },
    {
     "data": {
      "image/png": "[encoded data removed]",
      "text/plain": [
       "<Figure size 432x432 with 4 Axes>"
      ]
     },
     "metadata": {},
     "output_type": "display_data"
    }
   ],
   "source": [
    "g = sns.FacetGrid(df, col = 'DEATH_EVENT', row = 'sex')\n",
    "g.map(plt.hist, 'age')"
   ]
  },
  {
   "cell_type": "markdown",
   "metadata": {
    "papermill": {
     "duration": 0.07379,
     "end_time": "2020-09-24T11:02:49.867340",
     "exception": false,
     "start_time": "2020-09-24T11:02:49.793550",
     "status": "completed"
    },
    "tags": []
   },
   "source": [
    "## Conclusion\n",
    "\n",
    "1. Looking at the plot above - for smoking against the age - we either don't see much relationship or we reach similar conclusions from above even when we split into whether a patient smokes or not - the same can be said for smoking against the other 3 relevant numerical variables. This means assumption #1 is false.\n",
    "2. The same can be said for sex - overall this strengthens our case for dropping the two variables."
   ]
  },
  {
   "cell_type": "markdown",
   "metadata": {
    "papermill": {
     "duration": 0.074637,
     "end_time": "2020-09-24T11:02:50.017246",
     "exception": false,
     "start_time": "2020-09-24T11:02:49.942609",
     "status": "completed"
    },
    "tags": []
   },
   "source": [
    "# Data Wrangling:\n",
    "\n",
    "1. From the above - we have overall said that our only useful features at the moment are: age, time, serum creatinine and the ejection fraction. \n",
    "2. At the same time we have said that we can create a new column denoting whether a patient has any underlying condition whether it be anaemia, high blood pressure or diabetes.\n",
    "3. The remaining features can be dropped\n",
    "\n",
    "So all we need to do is create the new feature - assess how useful it is and decide whether we need to drop this, we need to fix for outliers for our useful features and drop the relevant features we no longer require before we can begin the prediction stage. We also need to band relevant features too."
   ]
  },
  {
   "cell_type": "markdown",
   "metadata": {
    "papermill": {
     "duration": 0.073883,
     "end_time": "2020-09-24T11:02:50.166066",
     "exception": false,
     "start_time": "2020-09-24T11:02:50.092183",
     "status": "completed"
    },
    "tags": []
   },
   "source": [
    "## Feature Dropping:"
   ]
  },
  {
   "cell_type": "code",
   "execution_count": 21,
   "metadata": {
    "execution": {
     "iopub.execute_input": "2020-09-24T11:02:50.322375Z",
     "iopub.status.busy": "2020-09-24T11:02:50.321516Z",
     "iopub.status.idle": "2020-09-24T11:02:50.324957Z",
     "shell.execute_reply": "2020-09-24T11:02:50.325524Z"
    },
    "papermill": {
     "duration": 0.08546,
     "end_time": "2020-09-24T11:02:50.325671",
     "exception": false,
     "start_time": "2020-09-24T11:02:50.240211",
     "status": "completed"
    },
    "tags": []
   },
   "outputs": [
    {
     "name": "stdout",
     "output_type": "stream",
     "text": [
      "Before (299, 13)\n",
      "After (299, 8)\n"
     ]
    }
   ],
   "source": [
    "print(\"Before\", df.shape)\n",
    "df = df.drop(['platelets', 'creatinine_phosphokinase', 'serum_sodium', 'sex', 'smoking'], axis = 1)\n",
    "print(\"After\", df.shape)"
   ]
  },
  {
   "cell_type": "markdown",
   "metadata": {
    "papermill": {
     "duration": 0.074083,
     "end_time": "2020-09-24T11:02:50.476730",
     "exception": false,
     "start_time": "2020-09-24T11:02:50.402647",
     "status": "completed"
    },
    "tags": []
   },
   "source": [
    "## Creating new underlying condion column (UnderCon):"
   ]
  },
  {
   "cell_type": "code",
   "execution_count": 22,
   "metadata": {
    "execution": {
     "iopub.execute_input": "2020-09-24T11:02:50.628982Z",
     "iopub.status.busy": "2020-09-24T11:02:50.628370Z",
     "iopub.status.idle": "2020-09-24T11:02:50.646759Z",
     "shell.execute_reply": "2020-09-24T11:02:50.646068Z"
    },
    "papermill": {
     "duration": 0.09559,
     "end_time": "2020-09-24T11:02:50.646871",
     "exception": false,
     "start_time": "2020-09-24T11:02:50.551281",
     "status": "completed"
    },
    "tags": []
   },
   "outputs": [
    {
     "data": {
      "text/html": [
       "<div>\n",
       "<style scoped>\n",
       "    .dataframe tbody tr th:only-of-type {\n",
       "        vertical-align: middle;\n",
       "    }\n",
       "\n",
       "    .dataframe tbody tr th {\n",
       "        vertical-align: top;\n",
       "    }\n",
       "\n",
       "    .dataframe thead th {\n",
       "        text-align: right;\n",
       "    }\n",
       "</style>\n",
       "<table border=\"1\" class=\"dataframe\">\n",
       "  <thead>\n",
       "    <tr style=\"text-align: right;\">\n",
       "      <th></th>\n",
       "      <th>age</th>\n",
       "      <th>ejection_fraction</th>\n",
       "      <th>serum_creatinine</th>\n",
       "      <th>time</th>\n",
       "      <th>DEATH_EVENT</th>\n",
       "      <th>UnderCon</th>\n",
       "    </tr>\n",
       "  </thead>\n",
       "  <tbody>\n",
       "    <tr>\n",
       "      <th>0</th>\n",
       "      <td>75.0</td>\n",
       "      <td>20</td>\n",
       "      <td>1.9</td>\n",
       "      <td>4</td>\n",
       "      <td>1</td>\n",
       "      <td>1</td>\n",
       "    </tr>\n",
       "    <tr>\n",
       "      <th>1</th>\n",
       "      <td>55.0</td>\n",
       "      <td>38</td>\n",
       "      <td>1.1</td>\n",
       "      <td>6</td>\n",
       "      <td>1</td>\n",
       "      <td>0</td>\n",
       "    </tr>\n",
       "    <tr>\n",
       "      <th>2</th>\n",
       "      <td>65.0</td>\n",
       "      <td>20</td>\n",
       "      <td>1.3</td>\n",
       "      <td>7</td>\n",
       "      <td>1</td>\n",
       "      <td>0</td>\n",
       "    </tr>\n",
       "    <tr>\n",
       "      <th>3</th>\n",
       "      <td>50.0</td>\n",
       "      <td>20</td>\n",
       "      <td>1.9</td>\n",
       "      <td>7</td>\n",
       "      <td>1</td>\n",
       "      <td>1</td>\n",
       "    </tr>\n",
       "    <tr>\n",
       "      <th>4</th>\n",
       "      <td>65.0</td>\n",
       "      <td>20</td>\n",
       "      <td>2.7</td>\n",
       "      <td>8</td>\n",
       "      <td>1</td>\n",
       "      <td>1</td>\n",
       "    </tr>\n",
       "  </tbody>\n",
       "</table>\n",
       "</div>"
      ],
      "text/plain": [
       "    age  ejection_fraction  serum_creatinine  time  DEATH_EVENT  UnderCon\n",
       "0  75.0                 20               1.9     4            1         1\n",
       "1  55.0                 38               1.1     6            1         0\n",
       "2  65.0                 20               1.3     7            1         0\n",
       "3  50.0                 20               1.9     7            1         1\n",
       "4  65.0                 20               2.7     8            1         1"
      ]
     },
     "execution_count": 22,
     "metadata": {},
     "output_type": "execute_result"
    }
   ],
   "source": [
    "df['UnderCon'] = 0\n",
    "df.loc[((df['anaemia'] == 1) | (df['diabetes'] == 1) | df['high_blood_pressure'] == 1), 'UnderCon'] = 1\n",
    "df.drop(['anaemia', 'diabetes', 'high_blood_pressure'], axis = 1, inplace = True)\n",
    "df.head()"
   ]
  },
  {
   "cell_type": "code",
   "execution_count": 23,
   "metadata": {
    "execution": {
     "iopub.execute_input": "2020-09-24T11:02:50.800238Z",
     "iopub.status.busy": "2020-09-24T11:02:50.799611Z",
     "iopub.status.idle": "2020-09-24T11:02:50.804425Z",
     "shell.execute_reply": "2020-09-24T11:02:50.805056Z"
    },
    "papermill": {
     "duration": 0.083531,
     "end_time": "2020-09-24T11:02:50.805199",
     "exception": false,
     "start_time": "2020-09-24T11:02:50.721668",
     "status": "completed"
    },
    "tags": []
   },
   "outputs": [
    {
     "data": {
      "text/plain": [
       "(299, 6)"
      ]
     },
     "execution_count": 23,
     "metadata": {},
     "output_type": "execute_result"
    }
   ],
   "source": [
    "df.shape"
   ]
  },
  {
   "cell_type": "code",
   "execution_count": 24,
   "metadata": {
    "execution": {
     "iopub.execute_input": "2020-09-24T11:02:50.972439Z",
     "iopub.status.busy": "2020-09-24T11:02:50.971551Z",
     "iopub.status.idle": "2020-09-24T11:02:50.976071Z",
     "shell.execute_reply": "2020-09-24T11:02:50.975500Z"
    },
    "papermill": {
     "duration": 0.095079,
     "end_time": "2020-09-24T11:02:50.976181",
     "exception": false,
     "start_time": "2020-09-24T11:02:50.881102",
     "status": "completed"
    },
    "tags": []
   },
   "outputs": [
    {
     "data": {
      "text/html": [
       "<div>\n",
       "<style scoped>\n",
       "    .dataframe tbody tr th:only-of-type {\n",
       "        vertical-align: middle;\n",
       "    }\n",
       "\n",
       "    .dataframe tbody tr th {\n",
       "        vertical-align: top;\n",
       "    }\n",
       "\n",
       "    .dataframe thead th {\n",
       "        text-align: right;\n",
       "    }\n",
       "</style>\n",
       "<table border=\"1\" class=\"dataframe\">\n",
       "  <thead>\n",
       "    <tr style=\"text-align: right;\">\n",
       "      <th></th>\n",
       "      <th>UnderCon</th>\n",
       "      <th>DEATH_EVENT</th>\n",
       "    </tr>\n",
       "  </thead>\n",
       "  <tbody>\n",
       "    <tr>\n",
       "      <th>0</th>\n",
       "      <td>0</td>\n",
       "      <td>0.283582</td>\n",
       "    </tr>\n",
       "    <tr>\n",
       "      <th>1</th>\n",
       "      <td>1</td>\n",
       "      <td>0.331897</td>\n",
       "    </tr>\n",
       "  </tbody>\n",
       "</table>\n",
       "</div>"
      ],
      "text/plain": [
       "   UnderCon  DEATH_EVENT\n",
       "0         0     0.283582\n",
       "1         1     0.331897"
      ]
     },
     "execution_count": 24,
     "metadata": {},
     "output_type": "execute_result"
    }
   ],
   "source": [
    "df[['DEATH_EVENT', 'UnderCon']].groupby('UnderCon', as_index = False).mean()"
   ]
  },
  {
   "cell_type": "markdown",
   "metadata": {
    "papermill": {
     "duration": 0.077806,
     "end_time": "2020-09-24T11:02:51.129620",
     "exception": false,
     "start_time": "2020-09-24T11:02:51.051814",
     "status": "completed"
    },
    "tags": []
   },
   "source": [
    "## Conclusion:\n",
    "\n",
    "There doesn't appear to be any correlation here, so we can just go ahead and drop this leaving us with our 4 main features to use in our model training - now we just need to deal with our outliers."
   ]
  },
  {
   "cell_type": "code",
   "execution_count": 25,
   "metadata": {
    "execution": {
     "iopub.execute_input": "2020-09-24T11:02:51.288451Z",
     "iopub.status.busy": "2020-09-24T11:02:51.287771Z",
     "iopub.status.idle": "2020-09-24T11:02:51.289697Z",
     "shell.execute_reply": "2020-09-24T11:02:51.290204Z"
    },
    "papermill": {
     "duration": 0.084369,
     "end_time": "2020-09-24T11:02:51.290355",
     "exception": false,
     "start_time": "2020-09-24T11:02:51.205986",
     "status": "completed"
    },
    "tags": []
   },
   "outputs": [],
   "source": [
    "df = df.drop('UnderCon', axis = 1)"
   ]
  },
  {
   "cell_type": "code",
   "execution_count": 26,
   "metadata": {
    "execution": {
     "iopub.execute_input": "2020-09-24T11:02:51.447042Z",
     "iopub.status.busy": "2020-09-24T11:02:51.446443Z",
     "iopub.status.idle": "2020-09-24T11:02:51.458299Z",
     "shell.execute_reply": "2020-09-24T11:02:51.457668Z"
    },
    "papermill": {
     "duration": 0.090827,
     "end_time": "2020-09-24T11:02:51.458427",
     "exception": false,
     "start_time": "2020-09-24T11:02:51.367600",
     "status": "completed"
    },
    "tags": []
   },
   "outputs": [
    {
     "data": {
      "text/html": [
       "<div>\n",
       "<style scoped>\n",
       "    .dataframe tbody tr th:only-of-type {\n",
       "        vertical-align: middle;\n",
       "    }\n",
       "\n",
       "    .dataframe tbody tr th {\n",
       "        vertical-align: top;\n",
       "    }\n",
       "\n",
       "    .dataframe thead th {\n",
       "        text-align: right;\n",
       "    }\n",
       "</style>\n",
       "<table border=\"1\" class=\"dataframe\">\n",
       "  <thead>\n",
       "    <tr style=\"text-align: right;\">\n",
       "      <th></th>\n",
       "      <th>age</th>\n",
       "      <th>ejection_fraction</th>\n",
       "      <th>serum_creatinine</th>\n",
       "      <th>time</th>\n",
       "      <th>DEATH_EVENT</th>\n",
       "    </tr>\n",
       "  </thead>\n",
       "  <tbody>\n",
       "    <tr>\n",
       "      <th>0</th>\n",
       "      <td>75.0</td>\n",
       "      <td>20</td>\n",
       "      <td>1.9</td>\n",
       "      <td>4</td>\n",
       "      <td>1</td>\n",
       "    </tr>\n",
       "    <tr>\n",
       "      <th>1</th>\n",
       "      <td>55.0</td>\n",
       "      <td>38</td>\n",
       "      <td>1.1</td>\n",
       "      <td>6</td>\n",
       "      <td>1</td>\n",
       "    </tr>\n",
       "    <tr>\n",
       "      <th>2</th>\n",
       "      <td>65.0</td>\n",
       "      <td>20</td>\n",
       "      <td>1.3</td>\n",
       "      <td>7</td>\n",
       "      <td>1</td>\n",
       "    </tr>\n",
       "    <tr>\n",
       "      <th>3</th>\n",
       "      <td>50.0</td>\n",
       "      <td>20</td>\n",
       "      <td>1.9</td>\n",
       "      <td>7</td>\n",
       "      <td>1</td>\n",
       "    </tr>\n",
       "    <tr>\n",
       "      <th>4</th>\n",
       "      <td>65.0</td>\n",
       "      <td>20</td>\n",
       "      <td>2.7</td>\n",
       "      <td>8</td>\n",
       "      <td>1</td>\n",
       "    </tr>\n",
       "  </tbody>\n",
       "</table>\n",
       "</div>"
      ],
      "text/plain": [
       "    age  ejection_fraction  serum_creatinine  time  DEATH_EVENT\n",
       "0  75.0                 20               1.9     4            1\n",
       "1  55.0                 38               1.1     6            1\n",
       "2  65.0                 20               1.3     7            1\n",
       "3  50.0                 20               1.9     7            1\n",
       "4  65.0                 20               2.7     8            1"
      ]
     },
     "execution_count": 26,
     "metadata": {},
     "output_type": "execute_result"
    }
   ],
   "source": [
    "df.head()"
   ]
  },
  {
   "cell_type": "markdown",
   "metadata": {
    "papermill": {
     "duration": 0.076737,
     "end_time": "2020-09-24T11:02:51.612295",
     "exception": false,
     "start_time": "2020-09-24T11:02:51.535558",
     "status": "completed"
    },
    "tags": []
   },
   "source": [
    "## Outlier Removal\n",
    "\n",
    "As mentioned at the beginning of the analysis - considering the remaining features we have left - the ones that contain possible outliers are ejection fraction, time and serum creatinine"
   ]
  },
  {
   "cell_type": "code",
   "execution_count": 27,
   "metadata": {
    "execution": {
     "iopub.execute_input": "2020-09-24T11:02:51.771100Z",
     "iopub.status.busy": "2020-09-24T11:02:51.770462Z",
     "iopub.status.idle": "2020-09-24T11:02:52.288666Z",
     "shell.execute_reply": "2020-09-24T11:02:52.289267Z"
    },
    "papermill": {
     "duration": 0.600244,
     "end_time": "2020-09-24T11:02:52.289427",
     "exception": false,
     "start_time": "2020-09-24T11:02:51.689183",
     "status": "completed"
    },
    "tags": []
   },
   "outputs": [
    {
     "data": {
      "text/plain": [
       "Text(0.5, 1.0, 'time')"
      ]
     },
     "execution_count": 27,
     "metadata": {},
     "output_type": "execute_result"
    },
    {
     "data": {
      "image/png": "[encoded data removed]",
      "text/plain": [
       "<Figure size 864x432 with 4 Axes>"
      ]
     },
     "metadata": {},
     "output_type": "display_data"
    }
   ],
   "source": [
    "fig, ax = plt.subplots(nrows = 2, ncols = 2, figsize = (12,6))\n",
    "plt.tight_layout()\n",
    "\n",
    "ax0,ax1,ax2,ax3 = ax.flatten()\n",
    "\n",
    "ax0.boxplot(df['serum_creatinine'])\n",
    "ax0.set_title('Serum Creatinine')\n",
    "\n",
    "ax1.boxplot(df['ejection_fraction'])\n",
    "ax1.set_title('Ejection Fraction')\n",
    "\n",
    "ax2.boxplot(df['age'])\n",
    "ax2.set_title('Age')\n",
    "\n",
    "ax3.boxplot(df['time'])\n",
    "ax3.set_title('time')"
   ]
  },
  {
   "cell_type": "markdown",
   "metadata": {
    "papermill": {
     "duration": 0.078933,
     "end_time": "2020-09-24T11:02:52.448110",
     "exception": false,
     "start_time": "2020-09-24T11:02:52.369177",
     "status": "completed"
    },
    "tags": []
   },
   "source": [
    "## Conclusion:\n",
    "\n",
    "Before we even go about removing outliers we need to understand typical values for these features - one just can't remove outliers! \n",
    "\n",
    "For example - the ejection fraction of a healthy person is typically between 50 -70% so a patient having a percentage between 70-80% which was once thought as an outlier isn't necessarily even though the boxplot suggests this. \n",
    "\n",
    "For Serum Creatinine - it seems there are very large values distant from the rest of the datapoints suggesting the existence of outliers (in this case values larger than say 3.5.) - to correct this - we'll replace values larger than 4 with the median of the rest of the values. \n",
    "NOTE - whilst the outliers occur at values higher than around 2 rather than 3.5 as shown by the boxplot and using the fact that the internet says a normal human being has level at around 1.2 - I could have removed all those outliers after 2 - however I took into account that there may be some patients with underlying heart conditions not taken into account by the data.\n",
    "\n",
    "We have no outliers for Age and Time.\n",
    "\n",
    "Hence, we only need to fix values for serum creatinine levels."
   ]
  },
  {
   "cell_type": "code",
   "execution_count": 28,
   "metadata": {
    "execution": {
     "iopub.execute_input": "2020-09-24T11:02:52.609970Z",
     "iopub.status.busy": "2020-09-24T11:02:52.608984Z",
     "iopub.status.idle": "2020-09-24T11:02:52.624154Z",
     "shell.execute_reply": "2020-09-24T11:02:52.624737Z"
    },
    "papermill": {
     "duration": 0.098075,
     "end_time": "2020-09-24T11:02:52.624877",
     "exception": false,
     "start_time": "2020-09-24T11:02:52.526802",
     "status": "completed"
    },
    "tags": []
   },
   "outputs": [
    {
     "data": {
      "text/html": [
       "<div>\n",
       "<style scoped>\n",
       "    .dataframe tbody tr th:only-of-type {\n",
       "        vertical-align: middle;\n",
       "    }\n",
       "\n",
       "    .dataframe tbody tr th {\n",
       "        vertical-align: top;\n",
       "    }\n",
       "\n",
       "    .dataframe thead th {\n",
       "        text-align: right;\n",
       "    }\n",
       "</style>\n",
       "<table border=\"1\" class=\"dataframe\">\n",
       "  <thead>\n",
       "    <tr style=\"text-align: right;\">\n",
       "      <th></th>\n",
       "      <th>age</th>\n",
       "      <th>ejection_fraction</th>\n",
       "      <th>serum_creatinine</th>\n",
       "      <th>time</th>\n",
       "      <th>DEATH_EVENT</th>\n",
       "    </tr>\n",
       "  </thead>\n",
       "  <tbody>\n",
       "    <tr>\n",
       "      <th>0</th>\n",
       "      <td>75.0</td>\n",
       "      <td>20</td>\n",
       "      <td>1.9</td>\n",
       "      <td>4</td>\n",
       "      <td>1</td>\n",
       "    </tr>\n",
       "    <tr>\n",
       "      <th>1</th>\n",
       "      <td>55.0</td>\n",
       "      <td>38</td>\n",
       "      <td>1.1</td>\n",
       "      <td>6</td>\n",
       "      <td>1</td>\n",
       "    </tr>\n",
       "    <tr>\n",
       "      <th>2</th>\n",
       "      <td>65.0</td>\n",
       "      <td>20</td>\n",
       "      <td>1.3</td>\n",
       "      <td>7</td>\n",
       "      <td>1</td>\n",
       "    </tr>\n",
       "    <tr>\n",
       "      <th>3</th>\n",
       "      <td>50.0</td>\n",
       "      <td>20</td>\n",
       "      <td>1.9</td>\n",
       "      <td>7</td>\n",
       "      <td>1</td>\n",
       "    </tr>\n",
       "    <tr>\n",
       "      <th>4</th>\n",
       "      <td>65.0</td>\n",
       "      <td>20</td>\n",
       "      <td>2.7</td>\n",
       "      <td>8</td>\n",
       "      <td>1</td>\n",
       "    </tr>\n",
       "    <tr>\n",
       "      <th>5</th>\n",
       "      <td>90.0</td>\n",
       "      <td>40</td>\n",
       "      <td>2.1</td>\n",
       "      <td>8</td>\n",
       "      <td>1</td>\n",
       "    </tr>\n",
       "    <tr>\n",
       "      <th>6</th>\n",
       "      <td>75.0</td>\n",
       "      <td>15</td>\n",
       "      <td>1.2</td>\n",
       "      <td>10</td>\n",
       "      <td>1</td>\n",
       "    </tr>\n",
       "    <tr>\n",
       "      <th>7</th>\n",
       "      <td>60.0</td>\n",
       "      <td>60</td>\n",
       "      <td>1.1</td>\n",
       "      <td>10</td>\n",
       "      <td>1</td>\n",
       "    </tr>\n",
       "    <tr>\n",
       "      <th>8</th>\n",
       "      <td>65.0</td>\n",
       "      <td>65</td>\n",
       "      <td>1.5</td>\n",
       "      <td>10</td>\n",
       "      <td>1</td>\n",
       "    </tr>\n",
       "    <tr>\n",
       "      <th>9</th>\n",
       "      <td>80.0</td>\n",
       "      <td>35</td>\n",
       "      <td>1.1</td>\n",
       "      <td>10</td>\n",
       "      <td>1</td>\n",
       "    </tr>\n",
       "  </tbody>\n",
       "</table>\n",
       "</div>"
      ],
      "text/plain": [
       "    age  ejection_fraction  serum_creatinine  time  DEATH_EVENT\n",
       "0  75.0                 20               1.9     4            1\n",
       "1  55.0                 38               1.1     6            1\n",
       "2  65.0                 20               1.3     7            1\n",
       "3  50.0                 20               1.9     7            1\n",
       "4  65.0                 20               2.7     8            1\n",
       "5  90.0                 40               2.1     8            1\n",
       "6  75.0                 15               1.2    10            1\n",
       "7  60.0                 60               1.1    10            1\n",
       "8  65.0                 65               1.5    10            1\n",
       "9  80.0                 35               1.1    10            1"
      ]
     },
     "execution_count": 28,
     "metadata": {},
     "output_type": "execute_result"
    }
   ],
   "source": [
    "serum_cmode = df['serum_creatinine'].median()\n",
    "df.loc[(df['serum_creatinine'] > 4), 'serum_creatinine'] = serum_cmode\n",
    "df.head(10)"
   ]
  },
  {
   "cell_type": "markdown",
   "metadata": {
    "papermill": {
     "duration": 0.079195,
     "end_time": "2020-09-24T11:02:52.783514",
     "exception": false,
     "start_time": "2020-09-24T11:02:52.704319",
     "status": "completed"
    },
    "tags": []
   },
   "source": [
    "## Banding features:"
   ]
  },
  {
   "cell_type": "markdown",
   "metadata": {
    "papermill": {
     "duration": 0.078727,
     "end_time": "2020-09-24T11:02:52.941525",
     "exception": false,
     "start_time": "2020-09-24T11:02:52.862798",
     "status": "completed"
    },
    "tags": []
   },
   "source": [
    "Age\n",
    "\n",
    "- As we can see banding was effective - we see clear correlation!"
   ]
  },
  {
   "cell_type": "code",
   "execution_count": 29,
   "metadata": {
    "execution": {
     "iopub.execute_input": "2020-09-24T11:02:53.137801Z",
     "iopub.status.busy": "2020-09-24T11:02:53.137046Z",
     "iopub.status.idle": "2020-09-24T11:02:53.162701Z",
     "shell.execute_reply": "2020-09-24T11:02:53.163301Z"
    },
    "papermill": {
     "duration": 0.130618,
     "end_time": "2020-09-24T11:02:53.163470",
     "exception": false,
     "start_time": "2020-09-24T11:02:53.032852",
     "status": "completed"
    },
    "tags": []
   },
   "outputs": [
    {
     "data": {
      "text/html": [
       "<div>\n",
       "<style scoped>\n",
       "    .dataframe tbody tr th:only-of-type {\n",
       "        vertical-align: middle;\n",
       "    }\n",
       "\n",
       "    .dataframe tbody tr th {\n",
       "        vertical-align: top;\n",
       "    }\n",
       "\n",
       "    .dataframe thead th {\n",
       "        text-align: right;\n",
       "    }\n",
       "</style>\n",
       "<table border=\"1\" class=\"dataframe\">\n",
       "  <thead>\n",
       "    <tr style=\"text-align: right;\">\n",
       "      <th></th>\n",
       "      <th>AgeBand</th>\n",
       "      <th>DEATH_EVENT</th>\n",
       "    </tr>\n",
       "  </thead>\n",
       "  <tbody>\n",
       "    <tr>\n",
       "      <th>0</th>\n",
       "      <td>(39.945, 51.0]</td>\n",
       "      <td>0.256410</td>\n",
       "    </tr>\n",
       "    <tr>\n",
       "      <th>1</th>\n",
       "      <td>(51.0, 62.0]</td>\n",
       "      <td>0.273684</td>\n",
       "    </tr>\n",
       "    <tr>\n",
       "      <th>2</th>\n",
       "      <td>(62.0, 73.0]</td>\n",
       "      <td>0.294118</td>\n",
       "    </tr>\n",
       "    <tr>\n",
       "      <th>3</th>\n",
       "      <td>(73.0, 84.0]</td>\n",
       "      <td>0.555556</td>\n",
       "    </tr>\n",
       "    <tr>\n",
       "      <th>4</th>\n",
       "      <td>(84.0, 95.0]</td>\n",
       "      <td>0.714286</td>\n",
       "    </tr>\n",
       "  </tbody>\n",
       "</table>\n",
       "</div>"
      ],
      "text/plain": [
       "          AgeBand  DEATH_EVENT\n",
       "0  (39.945, 51.0]     0.256410\n",
       "1    (51.0, 62.0]     0.273684\n",
       "2    (62.0, 73.0]     0.294118\n",
       "3    (73.0, 84.0]     0.555556\n",
       "4    (84.0, 95.0]     0.714286"
      ]
     },
     "execution_count": 29,
     "metadata": {},
     "output_type": "execute_result"
    }
   ],
   "source": [
    "df['AgeBand'] = pd.cut(df['age'],5)\n",
    "df[['AgeBand', 'DEATH_EVENT']].groupby('AgeBand', as_index = False).mean()"
   ]
  },
  {
   "cell_type": "code",
   "execution_count": 30,
   "metadata": {
    "execution": {
     "iopub.execute_input": "2020-09-24T11:02:53.325757Z",
     "iopub.status.busy": "2020-09-24T11:02:53.325043Z",
     "iopub.status.idle": "2020-09-24T11:02:53.340718Z",
     "shell.execute_reply": "2020-09-24T11:02:53.340094Z"
    },
    "papermill": {
     "duration": 0.098037,
     "end_time": "2020-09-24T11:02:53.340844",
     "exception": false,
     "start_time": "2020-09-24T11:02:53.242807",
     "status": "completed"
    },
    "tags": []
   },
   "outputs": [],
   "source": [
    "#Mapping:\n",
    "\n",
    "df.loc[df['age'] <= 51, 'age'] = 0\n",
    "df.loc[(df['age'] > 51) & (df['age'] <= 62), 'age'] = 1\n",
    "df.loc[(df['age'] > 62) & (df['age'] <= 73), 'age'] = 2\n",
    "df.loc[(df['age'] > 73) & (df['age'] <= 84), 'age'] = 3\n",
    "df.loc[(df['age'] > 84) & (df['age'] <= 95), 'age'] = 4\n",
    "\n",
    "df.drop('AgeBand', axis = 1, inplace = True)"
   ]
  },
  {
   "cell_type": "markdown",
   "metadata": {
    "papermill": {
     "duration": 0.08198,
     "end_time": "2020-09-24T11:02:53.505858",
     "exception": false,
     "start_time": "2020-09-24T11:02:53.423878",
     "status": "completed"
    },
    "tags": []
   },
   "source": [
    "Time\n",
    "- Similar Conclusion."
   ]
  },
  {
   "cell_type": "code",
   "execution_count": 31,
   "metadata": {
    "execution": {
     "iopub.execute_input": "2020-09-24T11:02:53.679680Z",
     "iopub.status.busy": "2020-09-24T11:02:53.679002Z",
     "iopub.status.idle": "2020-09-24T11:02:53.686624Z",
     "shell.execute_reply": "2020-09-24T11:02:53.687184Z"
    },
    "papermill": {
     "duration": 0.101822,
     "end_time": "2020-09-24T11:02:53.687330",
     "exception": false,
     "start_time": "2020-09-24T11:02:53.585508",
     "status": "completed"
    },
    "tags": []
   },
   "outputs": [
    {
     "data": {
      "text/html": [
       "<div>\n",
       "<style scoped>\n",
       "    .dataframe tbody tr th:only-of-type {\n",
       "        vertical-align: middle;\n",
       "    }\n",
       "\n",
       "    .dataframe tbody tr th {\n",
       "        vertical-align: top;\n",
       "    }\n",
       "\n",
       "    .dataframe thead th {\n",
       "        text-align: right;\n",
       "    }\n",
       "</style>\n",
       "<table border=\"1\" class=\"dataframe\">\n",
       "  <thead>\n",
       "    <tr style=\"text-align: right;\">\n",
       "      <th></th>\n",
       "      <th>TimeBand</th>\n",
       "      <th>DEATH_EVENT</th>\n",
       "    </tr>\n",
       "  </thead>\n",
       "  <tbody>\n",
       "    <tr>\n",
       "      <th>0</th>\n",
       "      <td>(3.719, 60.2]</td>\n",
       "      <td>0.857143</td>\n",
       "    </tr>\n",
       "    <tr>\n",
       "      <th>1</th>\n",
       "      <td>(60.2, 116.4]</td>\n",
       "      <td>0.250000</td>\n",
       "    </tr>\n",
       "    <tr>\n",
       "      <th>2</th>\n",
       "      <td>(116.4, 172.6]</td>\n",
       "      <td>0.289474</td>\n",
       "    </tr>\n",
       "    <tr>\n",
       "      <th>3</th>\n",
       "      <td>(172.6, 228.8]</td>\n",
       "      <td>0.102941</td>\n",
       "    </tr>\n",
       "    <tr>\n",
       "      <th>4</th>\n",
       "      <td>(228.8, 285.0]</td>\n",
       "      <td>0.047619</td>\n",
       "    </tr>\n",
       "  </tbody>\n",
       "</table>\n",
       "</div>"
      ],
      "text/plain": [
       "         TimeBand  DEATH_EVENT\n",
       "0   (3.719, 60.2]     0.857143\n",
       "1   (60.2, 116.4]     0.250000\n",
       "2  (116.4, 172.6]     0.289474\n",
       "3  (172.6, 228.8]     0.102941\n",
       "4  (228.8, 285.0]     0.047619"
      ]
     },
     "execution_count": 31,
     "metadata": {},
     "output_type": "execute_result"
    }
   ],
   "source": [
    "df['TimeBand'] = pd.cut(df['time'],5)\n",
    "df[['TimeBand', 'DEATH_EVENT']].groupby('TimeBand', as_index = False).mean()"
   ]
  },
  {
   "cell_type": "code",
   "execution_count": 32,
   "metadata": {
    "execution": {
     "iopub.execute_input": "2020-09-24T11:02:53.850742Z",
     "iopub.status.busy": "2020-09-24T11:02:53.850103Z",
     "iopub.status.idle": "2020-09-24T11:02:53.864258Z",
     "shell.execute_reply": "2020-09-24T11:02:53.864860Z"
    },
    "papermill": {
     "duration": 0.097551,
     "end_time": "2020-09-24T11:02:53.865007",
     "exception": false,
     "start_time": "2020-09-24T11:02:53.767456",
     "status": "completed"
    },
    "tags": []
   },
   "outputs": [],
   "source": [
    "#Mapping:\n",
    "\n",
    "df.loc[df['time'] <= 60.2, 'time'] = 0\n",
    "df.loc[(df['time'] > 60.2) & (df['time'] <= 116.4), 'time'] = 1\n",
    "df.loc[(df['time'] > 116.4) & (df['time'] <= 172.6), 'time'] = 2\n",
    "df.loc[(df['time'] > 172.6) & (df['time'] <= 228.8), 'time'] = 3\n",
    "df.loc[(df['time'] > 228.8) & (df['time'] <= 285), 'time'] = 4\n",
    "\n",
    "df.drop('TimeBand', axis = 1, inplace = True)"
   ]
  },
  {
   "cell_type": "markdown",
   "metadata": {
    "papermill": {
     "duration": 0.081427,
     "end_time": "2020-09-24T11:02:54.029168",
     "exception": false,
     "start_time": "2020-09-24T11:02:53.947741",
     "status": "completed"
    },
    "tags": []
   },
   "source": [
    "Serum Creatinine\n",
    "- Similar Conclusion."
   ]
  },
  {
   "cell_type": "code",
   "execution_count": 33,
   "metadata": {
    "execution": {
     "iopub.execute_input": "2020-09-24T11:02:54.194469Z",
     "iopub.status.busy": "2020-09-24T11:02:54.193829Z",
     "iopub.status.idle": "2020-09-24T11:02:54.211731Z",
     "shell.execute_reply": "2020-09-24T11:02:54.212227Z"
    },
    "papermill": {
     "duration": 0.102345,
     "end_time": "2020-09-24T11:02:54.212375",
     "exception": false,
     "start_time": "2020-09-24T11:02:54.110030",
     "status": "completed"
    },
    "tags": []
   },
   "outputs": [
    {
     "data": {
      "text/html": [
       "<div>\n",
       "<style scoped>\n",
       "    .dataframe tbody tr th:only-of-type {\n",
       "        vertical-align: middle;\n",
       "    }\n",
       "\n",
       "    .dataframe tbody tr th {\n",
       "        vertical-align: top;\n",
       "    }\n",
       "\n",
       "    .dataframe thead th {\n",
       "        text-align: right;\n",
       "    }\n",
       "</style>\n",
       "<table border=\"1\" class=\"dataframe\">\n",
       "  <thead>\n",
       "    <tr style=\"text-align: right;\">\n",
       "      <th></th>\n",
       "      <th>SCBand</th>\n",
       "      <th>DEATH_EVENT</th>\n",
       "    </tr>\n",
       "  </thead>\n",
       "  <tbody>\n",
       "    <tr>\n",
       "      <th>0</th>\n",
       "      <td>(0.496, 1.2]</td>\n",
       "      <td>0.229268</td>\n",
       "    </tr>\n",
       "    <tr>\n",
       "      <th>1</th>\n",
       "      <td>(1.2, 1.9]</td>\n",
       "      <td>0.484848</td>\n",
       "    </tr>\n",
       "    <tr>\n",
       "      <th>2</th>\n",
       "      <td>(1.9, 2.6]</td>\n",
       "      <td>0.666667</td>\n",
       "    </tr>\n",
       "    <tr>\n",
       "      <th>3</th>\n",
       "      <td>(2.6, 3.3]</td>\n",
       "      <td>0.571429</td>\n",
       "    </tr>\n",
       "    <tr>\n",
       "      <th>4</th>\n",
       "      <td>(3.3, 4.0]</td>\n",
       "      <td>0.500000</td>\n",
       "    </tr>\n",
       "  </tbody>\n",
       "</table>\n",
       "</div>"
      ],
      "text/plain": [
       "         SCBand  DEATH_EVENT\n",
       "0  (0.496, 1.2]     0.229268\n",
       "1    (1.2, 1.9]     0.484848\n",
       "2    (1.9, 2.6]     0.666667\n",
       "3    (2.6, 3.3]     0.571429\n",
       "4    (3.3, 4.0]     0.500000"
      ]
     },
     "execution_count": 33,
     "metadata": {},
     "output_type": "execute_result"
    }
   ],
   "source": [
    "df['SCBand'] = pd.cut(df['serum_creatinine'],5)\n",
    "df[['SCBand', 'DEATH_EVENT']].groupby('SCBand', as_index = False).mean()"
   ]
  },
  {
   "cell_type": "code",
   "execution_count": 34,
   "metadata": {
    "execution": {
     "iopub.execute_input": "2020-09-24T11:02:54.391873Z",
     "iopub.status.busy": "2020-09-24T11:02:54.391031Z",
     "iopub.status.idle": "2020-09-24T11:02:54.393963Z",
     "shell.execute_reply": "2020-09-24T11:02:54.393481Z"
    },
    "papermill": {
     "duration": 0.101036,
     "end_time": "2020-09-24T11:02:54.394071",
     "exception": false,
     "start_time": "2020-09-24T11:02:54.293035",
     "status": "completed"
    },
    "tags": []
   },
   "outputs": [],
   "source": [
    "#Mapping:\n",
    "\n",
    "df.loc[df['serum_creatinine'] <= 1.2, 'serum_creatinine'] = 0\n",
    "df.loc[(df['serum_creatinine'] > 1.2) & (df['serum_creatinine'] <= 1.9), 'serum_creatinine'] = 1\n",
    "df.loc[(df['serum_creatinine'] > 1.9) & (df['serum_creatinine'] <= 2.6), 'serum_creatinine'] = 2\n",
    "df.loc[(df['serum_creatinine'] > 2.6) & (df['serum_creatinine'] <= 3.3), 'serum_creatinine'] = 3\n",
    "df.loc[(df['serum_creatinine'] > 3.3) & (df['serum_creatinine'] <= 4), 'serum_creatinine'] = 4\n",
    "\n",
    "df.drop('SCBand', axis = 1, inplace = True)"
   ]
  },
  {
   "cell_type": "markdown",
   "metadata": {
    "papermill": {
     "duration": 0.0801,
     "end_time": "2020-09-24T11:02:54.555449",
     "exception": false,
     "start_time": "2020-09-24T11:02:54.475349",
     "status": "completed"
    },
    "tags": []
   },
   "source": [
    "Ejection Fraction\n",
    "- Similar Conclusion."
   ]
  },
  {
   "cell_type": "code",
   "execution_count": 35,
   "metadata": {
    "execution": {
     "iopub.execute_input": "2020-09-24T11:02:54.732268Z",
     "iopub.status.busy": "2020-09-24T11:02:54.726184Z",
     "iopub.status.idle": "2020-09-24T11:02:54.743499Z",
     "shell.execute_reply": "2020-09-24T11:02:54.742844Z"
    },
    "papermill": {
     "duration": 0.10589,
     "end_time": "2020-09-24T11:02:54.743612",
     "exception": false,
     "start_time": "2020-09-24T11:02:54.637722",
     "status": "completed"
    },
    "tags": []
   },
   "outputs": [
    {
     "data": {
      "text/html": [
       "<div>\n",
       "<style scoped>\n",
       "    .dataframe tbody tr th:only-of-type {\n",
       "        vertical-align: middle;\n",
       "    }\n",
       "\n",
       "    .dataframe tbody tr th {\n",
       "        vertical-align: top;\n",
       "    }\n",
       "\n",
       "    .dataframe thead th {\n",
       "        text-align: right;\n",
       "    }\n",
       "</style>\n",
       "<table border=\"1\" class=\"dataframe\">\n",
       "  <thead>\n",
       "    <tr style=\"text-align: right;\">\n",
       "      <th></th>\n",
       "      <th>EJBand</th>\n",
       "      <th>DEATH_EVENT</th>\n",
       "    </tr>\n",
       "  </thead>\n",
       "  <tbody>\n",
       "    <tr>\n",
       "      <th>0</th>\n",
       "      <td>(13.934, 27.2]</td>\n",
       "      <td>0.644068</td>\n",
       "    </tr>\n",
       "    <tr>\n",
       "      <th>1</th>\n",
       "      <td>(27.2, 40.4]</td>\n",
       "      <td>0.243750</td>\n",
       "    </tr>\n",
       "    <tr>\n",
       "      <th>2</th>\n",
       "      <td>(40.4, 53.6]</td>\n",
       "      <td>0.268293</td>\n",
       "    </tr>\n",
       "    <tr>\n",
       "      <th>3</th>\n",
       "      <td>(53.6, 66.8]</td>\n",
       "      <td>0.189189</td>\n",
       "    </tr>\n",
       "    <tr>\n",
       "      <th>4</th>\n",
       "      <td>(66.8, 80.0]</td>\n",
       "      <td>0.500000</td>\n",
       "    </tr>\n",
       "  </tbody>\n",
       "</table>\n",
       "</div>"
      ],
      "text/plain": [
       "           EJBand  DEATH_EVENT\n",
       "0  (13.934, 27.2]     0.644068\n",
       "1    (27.2, 40.4]     0.243750\n",
       "2    (40.4, 53.6]     0.268293\n",
       "3    (53.6, 66.8]     0.189189\n",
       "4    (66.8, 80.0]     0.500000"
      ]
     },
     "execution_count": 35,
     "metadata": {},
     "output_type": "execute_result"
    }
   ],
   "source": [
    "df['EJBand'] = pd.cut(df['ejection_fraction'],5)\n",
    "df[['EJBand', 'DEATH_EVENT']].groupby('EJBand', as_index = False).mean()"
   ]
  },
  {
   "cell_type": "code",
   "execution_count": 36,
   "metadata": {
    "execution": {
     "iopub.execute_input": "2020-09-24T11:02:54.924665Z",
     "iopub.status.busy": "2020-09-24T11:02:54.923978Z",
     "iopub.status.idle": "2020-09-24T11:02:54.927319Z",
     "shell.execute_reply": "2020-09-24T11:02:54.926754Z"
    },
    "papermill": {
     "duration": 0.10214,
     "end_time": "2020-09-24T11:02:54.927460",
     "exception": false,
     "start_time": "2020-09-24T11:02:54.825320",
     "status": "completed"
    },
    "tags": []
   },
   "outputs": [],
   "source": [
    "#Mapping:\n",
    "\n",
    "df.loc[df['ejection_fraction'] <= 27.2, 'ejection_fraction'] = 0\n",
    "df.loc[(df['ejection_fraction'] > 27.2) & (df['ejection_fraction'] <= 40.4), 'ejection_fraction'] = 1\n",
    "df.loc[(df['ejection_fraction'] > 40.4) & (df['ejection_fraction'] <= 53.6), 'ejection_fraction'] = 2\n",
    "df.loc[(df['ejection_fraction'] > 53.6) & (df['ejection_fraction'] <= 66.8), 'ejection_fraction'] = 3\n",
    "df.loc[(df['ejection_fraction'] > 66.8) & (df['ejection_fraction'] <= 80), 'ejection_fraction'] = 4\n",
    "\n",
    "df.drop('EJBand', axis = 1, inplace = True)"
   ]
  },
  {
   "cell_type": "markdown",
   "metadata": {
    "papermill": {
     "duration": 0.081818,
     "end_time": "2020-09-24T11:02:55.092180",
     "exception": false,
     "start_time": "2020-09-24T11:02:55.010362",
     "status": "completed"
    },
    "tags": []
   },
   "source": [
    "### Converting age and serum creatinine to integers:"
   ]
  },
  {
   "cell_type": "code",
   "execution_count": 37,
   "metadata": {
    "execution": {
     "iopub.execute_input": "2020-09-24T11:02:55.270645Z",
     "iopub.status.busy": "2020-09-24T11:02:55.269985Z",
     "iopub.status.idle": "2020-09-24T11:02:55.273840Z",
     "shell.execute_reply": "2020-09-24T11:02:55.273168Z"
    },
    "papermill": {
     "duration": 0.098861,
     "end_time": "2020-09-24T11:02:55.273962",
     "exception": false,
     "start_time": "2020-09-24T11:02:55.175101",
     "status": "completed"
    },
    "tags": []
   },
   "outputs": [
    {
     "data": {
      "text/html": [
       "<div>\n",
       "<style scoped>\n",
       "    .dataframe tbody tr th:only-of-type {\n",
       "        vertical-align: middle;\n",
       "    }\n",
       "\n",
       "    .dataframe tbody tr th {\n",
       "        vertical-align: top;\n",
       "    }\n",
       "\n",
       "    .dataframe thead th {\n",
       "        text-align: right;\n",
       "    }\n",
       "</style>\n",
       "<table border=\"1\" class=\"dataframe\">\n",
       "  <thead>\n",
       "    <tr style=\"text-align: right;\">\n",
       "      <th></th>\n",
       "      <th>age</th>\n",
       "      <th>ejection_fraction</th>\n",
       "      <th>serum_creatinine</th>\n",
       "      <th>time</th>\n",
       "      <th>DEATH_EVENT</th>\n",
       "    </tr>\n",
       "  </thead>\n",
       "  <tbody>\n",
       "    <tr>\n",
       "      <th>0</th>\n",
       "      <td>3</td>\n",
       "      <td>0</td>\n",
       "      <td>1</td>\n",
       "      <td>0</td>\n",
       "      <td>1</td>\n",
       "    </tr>\n",
       "    <tr>\n",
       "      <th>1</th>\n",
       "      <td>1</td>\n",
       "      <td>1</td>\n",
       "      <td>0</td>\n",
       "      <td>0</td>\n",
       "      <td>1</td>\n",
       "    </tr>\n",
       "    <tr>\n",
       "      <th>2</th>\n",
       "      <td>2</td>\n",
       "      <td>0</td>\n",
       "      <td>1</td>\n",
       "      <td>0</td>\n",
       "      <td>1</td>\n",
       "    </tr>\n",
       "    <tr>\n",
       "      <th>3</th>\n",
       "      <td>0</td>\n",
       "      <td>0</td>\n",
       "      <td>1</td>\n",
       "      <td>0</td>\n",
       "      <td>1</td>\n",
       "    </tr>\n",
       "    <tr>\n",
       "      <th>4</th>\n",
       "      <td>2</td>\n",
       "      <td>0</td>\n",
       "      <td>3</td>\n",
       "      <td>0</td>\n",
       "      <td>1</td>\n",
       "    </tr>\n",
       "  </tbody>\n",
       "</table>\n",
       "</div>"
      ],
      "text/plain": [
       "   age  ejection_fraction  serum_creatinine  time  DEATH_EVENT\n",
       "0    3                  0                 1     0            1\n",
       "1    1                  1                 0     0            1\n",
       "2    2                  0                 1     0            1\n",
       "3    0                  0                 1     0            1\n",
       "4    2                  0                 3     0            1"
      ]
     },
     "execution_count": 37,
     "metadata": {},
     "output_type": "execute_result"
    }
   ],
   "source": [
    "#Converting age and serum creatinine to integers:\n",
    "df['age'] = df['age'].astype(int)\n",
    "df['serum_creatinine'] = df['serum_creatinine'].astype(int)\n",
    "df.head()"
   ]
  },
  {
   "cell_type": "markdown",
   "metadata": {
    "papermill": {
     "duration": 0.08404,
     "end_time": "2020-09-24T11:02:55.440726",
     "exception": false,
     "start_time": "2020-09-24T11:02:55.356686",
     "status": "completed"
    },
    "tags": []
   },
   "source": [
    "# Modelling and Prediction:\n",
    "\n",
    "This is a classification and a regression problem since we are predicting an output based off of other independent features. Furthermore - this is a supervised problem as we will have a training dataset to train our model against.\n",
    "\n",
    "Possible models:\n",
    "- Logistic Regression\n",
    "- KNN or k-Nearest Neighbors\n",
    "- Support Vector Machines\n",
    "- Naive Bayes classifier\n",
    "- Decision Tree\n",
    "- Random Forrest\n",
    "- Support Vector Machine"
   ]
  },
  {
   "cell_type": "code",
   "execution_count": 38,
   "metadata": {
    "execution": {
     "iopub.execute_input": "2020-09-24T11:02:55.614330Z",
     "iopub.status.busy": "2020-09-24T11:02:55.613681Z",
     "iopub.status.idle": "2020-09-24T11:02:56.808177Z",
     "shell.execute_reply": "2020-09-24T11:02:56.807622Z"
    },
    "papermill": {
     "duration": 1.284613,
     "end_time": "2020-09-24T11:02:56.808304",
     "exception": false,
     "start_time": "2020-09-24T11:02:55.523691",
     "status": "completed"
    },
    "tags": []
   },
   "outputs": [],
   "source": [
    "from sklearn.linear_model import LogisticRegression\n",
    "from sklearn.neighbors import KNeighborsClassifier\n",
    "from sklearn.svm import SVC\n",
    "from sklearn.ensemble import RandomForestClassifier\n",
    "from sklearn.tree import DecisionTreeClassifier\n",
    "from sklearn.naive_bayes import GaussianNB\n",
    "\n",
    "from sklearn.model_selection import train_test_split\n",
    "from sklearn.metrics import accuracy_score, plot_confusion_matrix, f1_score,confusion_matrix, recall_score, precision_score\n",
    "\n",
    "import seaborn as sns\n",
    "from lightgbm import LGBMClassifier\n",
    "from xgboost import XGBClassifier"
   ]
  },
  {
   "cell_type": "code",
   "execution_count": 39,
   "metadata": {
    "execution": {
     "iopub.execute_input": "2020-09-24T11:02:56.991135Z",
     "iopub.status.busy": "2020-09-24T11:02:56.990045Z",
     "iopub.status.idle": "2020-09-24T11:02:56.994609Z",
     "shell.execute_reply": "2020-09-24T11:02:56.994037Z"
    },
    "papermill": {
     "duration": 0.101799,
     "end_time": "2020-09-24T11:02:56.994723",
     "exception": false,
     "start_time": "2020-09-24T11:02:56.892924",
     "status": "completed"
    },
    "tags": []
   },
   "outputs": [
    {
     "name": "stdout",
     "output_type": "stream",
     "text": [
      "     age  ejection_fraction  serum_creatinine  time  DEATH_EVENT\n",
      "6      3                  0                 0     0            1\n",
      "183    3                  1                 2     2            1\n",
      "185    1                  1                 1     2            1\n",
      "146    1                  1                 0     1            0\n",
      "30     4                  1                 1     0            1\n",
      "________________________________________\n",
      "     age  ejection_fraction  serum_creatinine  time  DEATH_EVENT\n",
      "281    2                  1                 3     4            0\n",
      "265    0                  1                 0     4            0\n",
      "164    0                  1                 0     2            1\n",
      "9      3                  1                 0     0            1\n",
      "77     0                  1                 0     1            0\n"
     ]
    }
   ],
   "source": [
    "train, test = train_test_split(df, test_size = 0.2, random_state = 42)\n",
    "print(train.head())\n",
    "print('_'*40)\n",
    "print(test.head())"
   ]
  },
  {
   "cell_type": "code",
   "execution_count": 40,
   "metadata": {
    "execution": {
     "iopub.execute_input": "2020-09-24T11:02:57.171837Z",
     "iopub.status.busy": "2020-09-24T11:02:57.170744Z",
     "iopub.status.idle": "2020-09-24T11:02:57.174709Z",
     "shell.execute_reply": "2020-09-24T11:02:57.175179Z"
    },
    "papermill": {
     "duration": 0.097323,
     "end_time": "2020-09-24T11:02:57.175332",
     "exception": false,
     "start_time": "2020-09-24T11:02:57.078009",
     "status": "completed"
    },
    "tags": []
   },
   "outputs": [
    {
     "data": {
      "text/plain": [
       "((239, 4), (239,), (60, 4), (60,))"
      ]
     },
     "execution_count": 40,
     "metadata": {},
     "output_type": "execute_result"
    }
   ],
   "source": [
    "X_train = train.drop('DEATH_EVENT', axis = 1)\n",
    "Y_train = train['DEATH_EVENT']\n",
    "X_test = test.drop('DEATH_EVENT', axis=1).copy()\n",
    "Y_test = test['DEATH_EVENT']\n",
    "\n",
    "X_train.shape,Y_train.shape,X_test.shape, Y_test.shape"
   ]
  },
  {
   "cell_type": "markdown",
   "metadata": {
    "papermill": {
     "duration": 0.08376,
     "end_time": "2020-09-24T11:02:57.343513",
     "exception": false,
     "start_time": "2020-09-24T11:02:57.259753",
     "status": "completed"
    },
    "tags": []
   },
   "source": [
    "## Logistic Regression"
   ]
  },
  {
   "cell_type": "code",
   "execution_count": 41,
   "metadata": {
    "execution": {
     "iopub.execute_input": "2020-09-24T11:02:57.533159Z",
     "iopub.status.busy": "2020-09-24T11:02:57.532470Z",
     "iopub.status.idle": "2020-09-24T11:02:57.538777Z",
     "shell.execute_reply": "2020-09-24T11:02:57.538016Z"
    },
    "papermill": {
     "duration": 0.109939,
     "end_time": "2020-09-24T11:02:57.538897",
     "exception": false,
     "start_time": "2020-09-24T11:02:57.428958",
     "status": "completed"
    },
    "tags": []
   },
   "outputs": [
    {
     "name": "stdout",
     "output_type": "stream",
     "text": [
      "Training Score: 86.19 %\n",
      "-------------------------\n",
      "Test Score: 76.67 %\n"
     ]
    }
   ],
   "source": [
    "logreg = LogisticRegression()\n",
    "logreg.fit(X_train, Y_train)\n",
    "Y_pred = logreg.predict(X_test)\n",
    "\n",
    "acc_log_train = round(logreg.score(X_train, Y_train) * 100, 2)\n",
    "acc_log_test = round(accuracy_score(Y_pred, Y_test) * 100,2)\n",
    "\n",
    "print('Training Score:',acc_log_train,'%')\n",
    "print('-'*25)\n",
    "print('Test Score:',acc_log_test,'%')"
   ]
  },
  {
   "cell_type": "markdown",
   "metadata": {
    "papermill": {
     "duration": 0.083738,
     "end_time": "2020-09-24T11:02:57.706866",
     "exception": false,
     "start_time": "2020-09-24T11:02:57.623128",
     "status": "completed"
    },
    "tags": []
   },
   "source": [
    "## Support Vector Machines"
   ]
  },
  {
   "cell_type": "code",
   "execution_count": 42,
   "metadata": {
    "execution": {
     "iopub.execute_input": "2020-09-24T11:02:57.887114Z",
     "iopub.status.busy": "2020-09-24T11:02:57.886457Z",
     "iopub.status.idle": "2020-09-24T11:02:57.901539Z",
     "shell.execute_reply": "2020-09-24T11:02:57.902025Z"
    },
    "papermill": {
     "duration": 0.111342,
     "end_time": "2020-09-24T11:02:57.902179",
     "exception": false,
     "start_time": "2020-09-24T11:02:57.790837",
     "status": "completed"
    },
    "tags": []
   },
   "outputs": [
    {
     "name": "stdout",
     "output_type": "stream",
     "text": [
      "Training Score: 88.7 %\n",
      "-------------------------\n",
      "Test Score: 73.33 %\n"
     ]
    }
   ],
   "source": [
    "svc = SVC()\n",
    "svc.fit(X_train, Y_train)\n",
    "Y_pred = svc.predict(X_test)\n",
    "\n",
    "acc_svc_train = round(svc.score(X_train, Y_train) * 100, 2)\n",
    "acc_svc_test = round(accuracy_score(Y_pred, Y_test) * 100,2)\n",
    "\n",
    "print('Training Score:',acc_svc_train,'%')\n",
    "print('-'*25)\n",
    "print('Test Score:',acc_svc_test,'%')\n"
   ]
  },
  {
   "cell_type": "markdown",
   "metadata": {
    "papermill": {
     "duration": 0.083857,
     "end_time": "2020-09-24T11:02:58.071282",
     "exception": false,
     "start_time": "2020-09-24T11:02:57.987425",
     "status": "completed"
    },
    "tags": []
   },
   "source": [
    "## K Nearest-Neighhbours (KNN)"
   ]
  },
  {
   "cell_type": "code",
   "execution_count": 43,
   "metadata": {
    "execution": {
     "iopub.execute_input": "2020-09-24T11:02:58.257536Z",
     "iopub.status.busy": "2020-09-24T11:02:58.256627Z",
     "iopub.status.idle": "2020-09-24T11:02:58.698989Z",
     "shell.execute_reply": "2020-09-24T11:02:58.698473Z"
    },
    "papermill": {
     "duration": 0.543055,
     "end_time": "2020-09-24T11:02:58.699112",
     "exception": false,
     "start_time": "2020-09-24T11:02:58.156057",
     "status": "completed"
    },
    "tags": []
   },
   "outputs": [
    {
     "name": "stdout",
     "output_type": "stream",
     "text": [
      "Minimum error:- 0.23333333333333334 at K = 11\n"
     ]
    },
    {
     "data": {
      "image/png": "[encoded data removed]",
      "text/plain": [
       "<Figure size 720x432 with 1 Axes>"
      ]
     },
     "metadata": {},
     "output_type": "display_data"
    }
   ],
   "source": [
    "error_rate = []\n",
    "for i in range(1,40):\n",
    " knn = KNeighborsClassifier(n_neighbors=i)\n",
    " knn.fit(X_train,Y_train)\n",
    " pred_i = knn.predict(X_test)\n",
    " error_rate.append(np.mean(pred_i != Y_test))\n",
    "\n",
    "plt.figure(figsize=(10,6))\n",
    "plt.plot(range(1,40),error_rate,color='blue', linestyle='dashed', \n",
    "         marker='o',markerfacecolor='red', markersize=10)\n",
    "plt.title('Error Rate vs. K Value')\n",
    "plt.xlabel('K')\n",
    "plt.ylabel('Error Rate')\n",
    "print(\"Minimum error:-\",min(error_rate),\"at K =\",error_rate.index(min(error_rate)))"
   ]
  },
  {
   "cell_type": "code",
   "execution_count": 44,
   "metadata": {
    "execution": {
     "iopub.execute_input": "2020-09-24T11:02:58.886961Z",
     "iopub.status.busy": "2020-09-24T11:02:58.884286Z",
     "iopub.status.idle": "2020-09-24T11:02:58.907877Z",
     "shell.execute_reply": "2020-09-24T11:02:58.908355Z"
    },
    "papermill": {
     "duration": 0.121801,
     "end_time": "2020-09-24T11:02:58.908533",
     "exception": false,
     "start_time": "2020-09-24T11:02:58.786732",
     "status": "completed"
    },
    "tags": []
   },
   "outputs": [
    {
     "name": "stdout",
     "output_type": "stream",
     "text": [
      "Training Score: 86.61 %\n",
      "-------------------------\n",
      "Test Score: 75.0 %\n"
     ]
    }
   ],
   "source": [
    "knn = KNeighborsClassifier(n_neighbors = error_rate.index(min(error_rate)))\n",
    "knn.fit(X_train, Y_train)\n",
    "Y_pred = knn.predict(X_test)\n",
    "\n",
    "acc_knn_train = round(knn.score(X_train, Y_train) * 100, 2)\n",
    "acc_knn_test = round(accuracy_score(Y_pred, Y_test) * 100,2)\n",
    "\n",
    "print('Training Score:',acc_knn_train,'%')\n",
    "print('-'*25)\n",
    "print('Test Score:',acc_knn_test,'%')"
   ]
  },
  {
   "cell_type": "markdown",
   "metadata": {
    "papermill": {
     "duration": 0.08648,
     "end_time": "2020-09-24T11:02:59.081570",
     "exception": false,
     "start_time": "2020-09-24T11:02:58.995090",
     "status": "completed"
    },
    "tags": []
   },
   "source": [
    "## Gaussian Naive-Bayes"
   ]
  },
  {
   "cell_type": "code",
   "execution_count": 45,
   "metadata": {
    "execution": {
     "iopub.execute_input": "2020-09-24T11:02:59.269380Z",
     "iopub.status.busy": "2020-09-24T11:02:59.268354Z",
     "iopub.status.idle": "2020-09-24T11:02:59.279234Z",
     "shell.execute_reply": "2020-09-24T11:02:59.279905Z"
    },
    "papermill": {
     "duration": 0.111431,
     "end_time": "2020-09-24T11:02:59.280059",
     "exception": false,
     "start_time": "2020-09-24T11:02:59.168628",
     "status": "completed"
    },
    "tags": []
   },
   "outputs": [
    {
     "name": "stdout",
     "output_type": "stream",
     "text": [
      "Training Score: 81.59 %\n",
      "-------------------------\n",
      "Test Score: 75.0 %\n"
     ]
    }
   ],
   "source": [
    "gaussian = GaussianNB()\n",
    "gaussian.fit(X_train, Y_train)\n",
    "Y_pred = gaussian.predict(X_test)\n",
    "\n",
    "acc_gaussian_train = round(gaussian.score(X_train, Y_train) * 100, 2)\n",
    "acc_gaussian_test = round(accuracy_score(Y_pred, Y_test) * 100,2)\n",
    "\n",
    "print('Training Score:',acc_gaussian_train,'%')\n",
    "print('-'*25)\n",
    "print('Test Score:',acc_gaussian_test,'%')"
   ]
  },
  {
   "cell_type": "markdown",
   "metadata": {
    "papermill": {
     "duration": 0.087589,
     "end_time": "2020-09-24T11:02:59.458293",
     "exception": false,
     "start_time": "2020-09-24T11:02:59.370704",
     "status": "completed"
    },
    "tags": []
   },
   "source": [
    "## Decision Tree"
   ]
  },
  {
   "cell_type": "code",
   "execution_count": 46,
   "metadata": {
    "execution": {
     "iopub.execute_input": "2020-09-24T11:02:59.645412Z",
     "iopub.status.busy": "2020-09-24T11:02:59.644294Z",
     "iopub.status.idle": "2020-09-24T11:02:59.654495Z",
     "shell.execute_reply": "2020-09-24T11:02:59.655130Z"
    },
    "papermill": {
     "duration": 0.109241,
     "end_time": "2020-09-24T11:02:59.655273",
     "exception": false,
     "start_time": "2020-09-24T11:02:59.546032",
     "status": "completed"
    },
    "tags": []
   },
   "outputs": [
    {
     "name": "stdout",
     "output_type": "stream",
     "text": [
      "Training Score: 94.14 %\n",
      "-------------------------\n",
      "Test Score: 73.33 %\n"
     ]
    }
   ],
   "source": [
    "decision_tree = DecisionTreeClassifier()\n",
    "decision_tree.fit(X_train, Y_train)\n",
    "Y_pred = decision_tree.predict(X_test)\n",
    "\n",
    "acc_decision_tree_train = round(decision_tree.score(X_train, Y_train) * 100, 2)\n",
    "acc_decision_tree_test = round(accuracy_score(Y_pred, Y_test) * 100,2)\n",
    "\n",
    "print('Training Score:',acc_decision_tree_train,'%')\n",
    "print('-'*25)\n",
    "print('Test Score:',acc_decision_tree_test,'%')"
   ]
  },
  {
   "cell_type": "markdown",
   "metadata": {
    "papermill": {
     "duration": 0.089686,
     "end_time": "2020-09-24T11:02:59.833692",
     "exception": false,
     "start_time": "2020-09-24T11:02:59.744006",
     "status": "completed"
    },
    "tags": []
   },
   "source": [
    "## Random Forest"
   ]
  },
  {
   "cell_type": "code",
   "execution_count": 47,
   "metadata": {
    "execution": {
     "iopub.execute_input": "2020-09-24T11:03:00.028924Z",
     "iopub.status.busy": "2020-09-24T11:03:00.023795Z",
     "iopub.status.idle": "2020-09-24T11:03:00.395369Z",
     "shell.execute_reply": "2020-09-24T11:03:00.394616Z"
    },
    "papermill": {
     "duration": 0.470967,
     "end_time": "2020-09-24T11:03:00.395502",
     "exception": false,
     "start_time": "2020-09-24T11:02:59.924535",
     "status": "completed"
    },
    "tags": []
   },
   "outputs": [
    {
     "name": "stdout",
     "output_type": "stream",
     "text": [
      "Training Score: 94.14 %\n",
      "-------------------------\n",
      "Test Score: 70.0 %\n"
     ]
    }
   ],
   "source": [
    "random_forest = RandomForestClassifier(n_estimators=100)\n",
    "random_forest.fit(X_train, Y_train)\n",
    "Y_pred = random_forest.predict(X_test)\n",
    "random_forest.score(X_train, Y_train)\n",
    "\n",
    "acc_random_forest_train = round(random_forest.score(X_train, Y_train) * 100, 2)\n",
    "acc_random_forest_test = round(accuracy_score(Y_pred, Y_test) * 100,2)\n",
    "\n",
    "print('Training Score:',acc_random_forest_train,'%')\n",
    "print('-'*25)\n",
    "print('Test Score:',acc_random_forest_test,'%')"
   ]
  },
  {
   "cell_type": "markdown",
   "metadata": {
    "papermill": {
     "duration": 0.08879,
     "end_time": "2020-09-24T11:03:00.573257",
     "exception": false,
     "start_time": "2020-09-24T11:03:00.484467",
     "status": "completed"
    },
    "tags": []
   },
   "source": [
    "# Model Evaluation:"
   ]
  },
  {
   "cell_type": "markdown",
   "metadata": {
    "papermill": {
     "duration": 0.088501,
     "end_time": "2020-09-24T11:03:00.751099",
     "exception": false,
     "start_time": "2020-09-24T11:03:00.662598",
     "status": "completed"
    },
    "tags": []
   },
   "source": [
    "## Score under the training set:"
   ]
  },
  {
   "cell_type": "code",
   "execution_count": 48,
   "metadata": {
    "execution": {
     "iopub.execute_input": "2020-09-24T11:03:00.941817Z",
     "iopub.status.busy": "2020-09-24T11:03:00.941150Z",
     "iopub.status.idle": "2020-09-24T11:03:00.947811Z",
     "shell.execute_reply": "2020-09-24T11:03:00.948296Z"
    },
    "papermill": {
     "duration": 0.108449,
     "end_time": "2020-09-24T11:03:00.948468",
     "exception": false,
     "start_time": "2020-09-24T11:03:00.840019",
     "status": "completed"
    },
    "tags": []
   },
   "outputs": [
    {
     "data": {
      "text/html": [
       "<div>\n",
       "<style scoped>\n",
       "    .dataframe tbody tr th:only-of-type {\n",
       "        vertical-align: middle;\n",
       "    }\n",
       "\n",
       "    .dataframe tbody tr th {\n",
       "        vertical-align: top;\n",
       "    }\n",
       "\n",
       "    .dataframe thead th {\n",
       "        text-align: right;\n",
       "    }\n",
       "</style>\n",
       "<table border=\"1\" class=\"dataframe\">\n",
       "  <thead>\n",
       "    <tr style=\"text-align: right;\">\n",
       "      <th></th>\n",
       "      <th>Model</th>\n",
       "      <th>Score</th>\n",
       "    </tr>\n",
       "  </thead>\n",
       "  <tbody>\n",
       "    <tr>\n",
       "      <th>3</th>\n",
       "      <td>Random Forest</td>\n",
       "      <td>94.14</td>\n",
       "    </tr>\n",
       "    <tr>\n",
       "      <th>5</th>\n",
       "      <td>Decision Tree</td>\n",
       "      <td>94.14</td>\n",
       "    </tr>\n",
       "    <tr>\n",
       "      <th>0</th>\n",
       "      <td>Support Vector Machines</td>\n",
       "      <td>88.70</td>\n",
       "    </tr>\n",
       "    <tr>\n",
       "      <th>1</th>\n",
       "      <td>KNN</td>\n",
       "      <td>86.61</td>\n",
       "    </tr>\n",
       "    <tr>\n",
       "      <th>2</th>\n",
       "      <td>Logistic Regression</td>\n",
       "      <td>86.19</td>\n",
       "    </tr>\n",
       "    <tr>\n",
       "      <th>4</th>\n",
       "      <td>Naive Bayes</td>\n",
       "      <td>81.59</td>\n",
       "    </tr>\n",
       "  </tbody>\n",
       "</table>\n",
       "</div>"
      ],
      "text/plain": [
       "                     Model  Score\n",
       "3            Random Forest  94.14\n",
       "5            Decision Tree  94.14\n",
       "0  Support Vector Machines  88.70\n",
       "1                      KNN  86.61\n",
       "2      Logistic Regression  86.19\n",
       "4              Naive Bayes  81.59"
      ]
     },
     "execution_count": 48,
     "metadata": {},
     "output_type": "execute_result"
    }
   ],
   "source": [
    "models = pd.DataFrame({\n",
    "    'Model': ['Support Vector Machines', 'KNN', 'Logistic Regression', \n",
    "              'Random Forest', 'Naive Bayes','Decision Tree'],\n",
    "              \n",
    "             \n",
    "    'Score': [acc_svc_train, acc_knn_train, acc_log_train, \n",
    "              acc_random_forest_train, acc_gaussian_train, \n",
    "              acc_decision_tree_train]})\n",
    "models.sort_values(by='Score', ascending=False)"
   ]
  },
  {
   "cell_type": "markdown",
   "metadata": {
    "papermill": {
     "duration": 0.089082,
     "end_time": "2020-09-24T11:03:01.128661",
     "exception": false,
     "start_time": "2020-09-24T11:03:01.039579",
     "status": "completed"
    },
    "tags": []
   },
   "source": [
    "## Score under the test set:"
   ]
  },
  {
   "cell_type": "code",
   "execution_count": 49,
   "metadata": {
    "execution": {
     "iopub.execute_input": "2020-09-24T11:03:01.312236Z",
     "iopub.status.busy": "2020-09-24T11:03:01.311526Z",
     "iopub.status.idle": "2020-09-24T11:03:01.324047Z",
     "shell.execute_reply": "2020-09-24T11:03:01.324599Z"
    },
    "papermill": {
     "duration": 0.106253,
     "end_time": "2020-09-24T11:03:01.324738",
     "exception": false,
     "start_time": "2020-09-24T11:03:01.218485",
     "status": "completed"
    },
    "tags": []
   },
   "outputs": [
    {
     "data": {
      "text/html": [
       "<div>\n",
       "<style scoped>\n",
       "    .dataframe tbody tr th:only-of-type {\n",
       "        vertical-align: middle;\n",
       "    }\n",
       "\n",
       "    .dataframe tbody tr th {\n",
       "        vertical-align: top;\n",
       "    }\n",
       "\n",
       "    .dataframe thead th {\n",
       "        text-align: right;\n",
       "    }\n",
       "</style>\n",
       "<table border=\"1\" class=\"dataframe\">\n",
       "  <thead>\n",
       "    <tr style=\"text-align: right;\">\n",
       "      <th></th>\n",
       "      <th>Model</th>\n",
       "      <th>Score</th>\n",
       "    </tr>\n",
       "  </thead>\n",
       "  <tbody>\n",
       "    <tr>\n",
       "      <th>2</th>\n",
       "      <td>Logistic Regression</td>\n",
       "      <td>76.67</td>\n",
       "    </tr>\n",
       "    <tr>\n",
       "      <th>1</th>\n",
       "      <td>KNN</td>\n",
       "      <td>75.00</td>\n",
       "    </tr>\n",
       "    <tr>\n",
       "      <th>4</th>\n",
       "      <td>Naive Bayes</td>\n",
       "      <td>75.00</td>\n",
       "    </tr>\n",
       "    <tr>\n",
       "      <th>0</th>\n",
       "      <td>Support Vector Machines</td>\n",
       "      <td>73.33</td>\n",
       "    </tr>\n",
       "    <tr>\n",
       "      <th>5</th>\n",
       "      <td>Decision Tree</td>\n",
       "      <td>73.33</td>\n",
       "    </tr>\n",
       "    <tr>\n",
       "      <th>3</th>\n",
       "      <td>Random Forest</td>\n",
       "      <td>70.00</td>\n",
       "    </tr>\n",
       "  </tbody>\n",
       "</table>\n",
       "</div>"
      ],
      "text/plain": [
       "                     Model  Score\n",
       "2      Logistic Regression  76.67\n",
       "1                      KNN  75.00\n",
       "4              Naive Bayes  75.00\n",
       "0  Support Vector Machines  73.33\n",
       "5            Decision Tree  73.33\n",
       "3            Random Forest  70.00"
      ]
     },
     "execution_count": 49,
     "metadata": {},
     "output_type": "execute_result"
    }
   ],
   "source": [
    "models = pd.DataFrame({\n",
    "    'Model': ['Support Vector Machines', 'KNN', 'Logistic Regression', \n",
    "              'Random Forest', 'Naive Bayes','Decision Tree'],\n",
    "              \n",
    "    'Score': [acc_svc_test, acc_knn_test, acc_log_test, \n",
    "              acc_random_forest_test, acc_gaussian_test, \n",
    "              acc_decision_tree_test]})\n",
    "models.sort_values(by='Score', ascending=False)"
   ]
  },
  {
   "cell_type": "markdown",
   "metadata": {
    "papermill": {
     "duration": 0.089186,
     "end_time": "2020-09-24T11:03:01.505965",
     "exception": false,
     "start_time": "2020-09-24T11:03:01.416779",
     "status": "completed"
    },
    "tags": []
   },
   "source": [
    "### Lets choose to continue with Logistic Regression model as it has best score in the test set.\n"
   ]
  },
  {
   "cell_type": "markdown",
   "metadata": {
    "papermill": {
     "duration": 0.089274,
     "end_time": "2020-09-24T11:03:01.684580",
     "exception": false,
     "start_time": "2020-09-24T11:03:01.595306",
     "status": "completed"
    },
    "tags": []
   },
   "source": [
    "# confusion matrix:"
   ]
  },
  {
   "cell_type": "code",
   "execution_count": 50,
   "metadata": {
    "execution": {
     "iopub.execute_input": "2020-09-24T11:03:01.872379Z",
     "iopub.status.busy": "2020-09-24T11:03:01.870990Z",
     "iopub.status.idle": "2020-09-24T11:03:02.040257Z",
     "shell.execute_reply": "2020-09-24T11:03:02.040754Z"
    },
    "papermill": {
     "duration": 0.264984,
     "end_time": "2020-09-24T11:03:02.040903",
     "exception": false,
     "start_time": "2020-09-24T11:03:01.775919",
     "status": "completed"
    },
    "tags": []
   },
   "outputs": [
    {
     "data": {
      "text/plain": [
       "Text(33.0, 0.5, 'True labels')"
      ]
     },
     "execution_count": 50,
     "metadata": {},
     "output_type": "execute_result"
    },
    {
     "data": {
      "image/png": "[encoded data removed]",
      "text/plain": [
       "<Figure size 432x288 with 2 Axes>"
      ]
     },
     "metadata": {},
     "output_type": "display_data"
    }
   ],
   "source": [
    "cm = confusion_matrix(Y_test, Y_pred)\n",
    "\n",
    "ax= plt.subplot()\n",
    "sns.heatmap(cm, annot=True, ax = ax)\n",
    "\n",
    "ax.set_xlabel('Predicted labels')\n",
    "ax.set_ylabel('True labels')"
   ]
  },
  {
   "cell_type": "markdown",
   "metadata": {
    "papermill": {
     "duration": 0.090889,
     "end_time": "2020-09-24T11:03:02.222450",
     "exception": false,
     "start_time": "2020-09-24T11:03:02.131561",
     "status": "completed"
    },
    "tags": []
   },
   "source": [
    "### We deal with imbalanced classification problem so maybe accuracy is not the best metric. Let's try f1-score,precision and recall and see results\n"
   ]
  },
  {
   "cell_type": "code",
   "execution_count": 51,
   "metadata": {
    "execution": {
     "iopub.execute_input": "2020-09-24T11:03:02.412033Z",
     "iopub.status.busy": "2020-09-24T11:03:02.411380Z",
     "iopub.status.idle": "2020-09-24T11:03:02.420173Z",
     "shell.execute_reply": "2020-09-24T11:03:02.420989Z"
    },
    "papermill": {
     "duration": 0.108454,
     "end_time": "2020-09-24T11:03:02.421189",
     "exception": false,
     "start_time": "2020-09-24T11:03:02.312735",
     "status": "completed"
    },
    "tags": []
   },
   "outputs": [
    {
     "name": "stdout",
     "output_type": "stream",
     "text": [
      "Logistic Regression f1-score 59.09 %\n",
      "Logistic Regression precision 68.42 %\n",
      "Logistic Regression recall 52.0 %\n"
     ]
    }
   ],
   "source": [
    "print('Logistic Regression f1-score', round(f1_score(Y_test, Y_pred) * 100,2),'%')\n",
    "print('Logistic Regression precision', round(precision_score(Y_test, Y_pred)* 100,2),'%')\n",
    "print('Logistic Regression recall', round(recall_score(Y_test, Y_pred)* 100,2),'%')"
   ]
  },
  {
   "cell_type": "markdown",
   "metadata": {
    "papermill": {
     "duration": 0.091065,
     "end_time": "2020-09-24T11:03:02.603830",
     "exception": false,
     "start_time": "2020-09-24T11:03:02.512765",
     "status": "completed"
    },
    "tags": []
   },
   "source": [
    "### Let's try to improve our metrics and use LightGBM model"
   ]
  },
  {
   "cell_type": "code",
   "execution_count": 52,
   "metadata": {
    "execution": {
     "iopub.execute_input": "2020-09-24T11:03:02.799160Z",
     "iopub.status.busy": "2020-09-24T11:03:02.798379Z",
     "iopub.status.idle": "2020-09-24T11:03:02.866689Z",
     "shell.execute_reply": "2020-09-24T11:03:02.867908Z"
    },
    "papermill": {
     "duration": 0.17262,
     "end_time": "2020-09-24T11:03:02.868222",
     "exception": false,
     "start_time": "2020-09-24T11:03:02.695602",
     "status": "completed"
    },
    "tags": []
   },
   "outputs": [
    {
     "name": "stdout",
     "output_type": "stream",
     "text": [
      "LightGBM f1-score 69.77 %\n",
      "LightGBM precision 83.33 %\n",
      "LightGBM recall 60.0 %\n"
     ]
    }
   ],
   "source": [
    "model = LGBMClassifier(random_state=0)\n",
    "model.fit(X_train, Y_train)\n",
    "preds = model.predict(X_test)\n",
    "print('LightGBM f1-score', round(f1_score(Y_test, preds) * 100,2),'%')\n",
    "print('LightGBM precision', round(precision_score(Y_test, preds)* 100,2),'%')\n",
    "print('LightGBM recall', round(recall_score(Y_test, preds)* 100,2),'%')"
   ]
  },
  {
   "cell_type": "markdown",
   "metadata": {
    "papermill": {
     "duration": 0.107128,
     "end_time": "2020-09-24T11:03:03.097725",
     "exception": false,
     "start_time": "2020-09-24T11:03:02.990597",
     "status": "completed"
    },
    "tags": []
   },
   "source": [
    "### Let's try to improve our f1-score and use XGBoost model"
   ]
  },
  {
   "cell_type": "code",
   "execution_count": 53,
   "metadata": {
    "execution": {
     "iopub.execute_input": "2020-09-24T11:03:03.289551Z",
     "iopub.status.busy": "2020-09-24T11:03:03.288829Z",
     "iopub.status.idle": "2020-09-24T11:03:03.353178Z",
     "shell.execute_reply": "2020-09-24T11:03:03.354570Z"
    },
    "papermill": {
     "duration": 0.164555,
     "end_time": "2020-09-24T11:03:03.354762",
     "exception": false,
     "start_time": "2020-09-24T11:03:03.190207",
     "status": "completed"
    },
    "tags": []
   },
   "outputs": [
    {
     "name": "stdout",
     "output_type": "stream",
     "text": [
      "XGBClassifier f1-score 59.09 %\n",
      "XGBClassifier precision 68.42 %\n",
      "XGBClassifier recall 52.0 %\n"
     ]
    }
   ],
   "source": [
    "model = XGBClassifier(random_state=0)\n",
    "model.fit(X_train, Y_train)\n",
    "preds = model.predict(X_test)\n",
    "print('XGBClassifier f1-score', round(f1_score(Y_test, preds)*100,2),'%')\n",
    "print('XGBClassifier precision', round(precision_score(Y_test, preds)* 100,2),'%')\n",
    "print('XGBClassifier recall', round(recall_score(Y_test, preds)* 100,2),'%')"
   ]
  },
  {
   "cell_type": "markdown",
   "metadata": {
    "papermill": {
     "duration": 0.106221,
     "end_time": "2020-09-24T11:03:03.582883",
     "exception": false,
     "start_time": "2020-09-24T11:03:03.476662",
     "status": "completed"
    },
    "tags": []
   },
   "source": [
    "### we see that with LightGBM we got the best results."
   ]
  },
  {
   "cell_type": "markdown",
   "metadata": {
    "papermill": {
     "duration": 0.092714,
     "end_time": "2020-09-24T11:03:03.769154",
     "exception": false,
     "start_time": "2020-09-24T11:03:03.676440",
     "status": "completed"
    },
    "tags": []
   },
   "source": [
    "# Conclusions:\n",
    "\n",
    "- There is clear room for improvement if we can adjust hyperparameters optimization or recursive feature elimination (currently unsure of how to do this with current knowledge)\n",
    "\n",
    "    \n"
   ]
  }
 ],
 "metadata": {
  "kernelspec": {
   "display_name": "Python 3",
   "language": "python",
   "name": "python3"
  },
  "language_info": {
   "codemirror_mode": {
    "name": "ipython",
    "version": 3
   },
   "file_extension": ".py",
   "mimetype": "text/x-python",
   "name": "python",
   "nbconvert_exporter": "python",
   "pygments_lexer": "ipython3",
   "version": "3.7.6"
  },
  "papermill": {
   "duration": 30.763738,
   "end_time": "2020-09-24T11:03:03.971038",
   "environment_variables": {},
   "exception": null,
   "input_path": "__notebook__.ipynb",
   "output_path": "__notebook__.ipynb",
   "parameters": {},
   "start_time": "2020-09-24T11:02:33.207300",
   "version": "2.1.0"
  }
 },
 "nbformat": 4,
 "nbformat_minor": 4
}
